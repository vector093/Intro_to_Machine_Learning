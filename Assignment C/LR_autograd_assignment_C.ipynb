{
  "nbformat": 4,
  "nbformat_minor": 0,
  "metadata": {
    "colab": {
      "provenance": []
    },
    "kernelspec": {
      "name": "python3",
      "display_name": "Python 3"
    },
    "accelerator": "GPU"
  },
  "cells": [
    {
      "cell_type": "markdown",
      "metadata": {
        "id": "ON4WbEBvk9Z9"
      },
      "source": [
        "# Linear Regression\n",
        "## Predicting Student's marks from Study Hours"
      ]
    },
    {
      "cell_type": "markdown",
      "metadata": {
        "id": "RKxoZ5lknWll"
      },
      "source": [
        "### Import Libraries"
      ]
    },
    {
      "cell_type": "code",
      "metadata": {
        "id": "Lq6qDjhHnbak"
      },
      "source": [
        "import autograd.numpy as np # for autograd, need to use autograd's numpy!\n",
        "import matplotlib.pyplot as plt\n",
        "from autograd import grad # autograd!\n",
        "import jax.numpy as jaxnp\n",
        "from jax import grad as jaxgrad"
      ],
      "execution_count": null,
      "outputs": []
    },
    {
      "cell_type": "markdown",
      "metadata": {
        "id": "W5b_-H-zn3_O"
      },
      "source": [
        "### Read Data"
      ]
    },
    {
      "cell_type": "code",
      "metadata": {
        "id": "T1a23JYWn5oM"
      },
      "source": [
        "data = np.genfromtxt('https://raw.githubusercontent.com/kaustubholpadkar/Linear_Regression-Gradient_Descent-Octave/master/data.csv', delimiter=',')"
      ],
      "execution_count": null,
      "outputs": []
    },
    {
      "cell_type": "code",
      "metadata": {
        "id": "Ip2EQ_PGoQJO",
        "colab": {
          "base_uri": "https://localhost:8080/"
        },
        "outputId": "8529d273-351b-470c-c02f-fbf68279bac8"
      },
      "source": [
        "data.shape"
      ],
      "execution_count": null,
      "outputs": [
        {
          "output_type": "execute_result",
          "data": {
            "text/plain": [
              "(100, 2)"
            ]
          },
          "metadata": {
            "tags": []
          },
          "execution_count": 117
        }
      ]
    },
    {
      "cell_type": "markdown",
      "metadata": {
        "id": "8rMv-L53odN5"
      },
      "source": [
        "### Seperate Data into X and Y"
      ]
    },
    {
      "cell_type": "code",
      "metadata": {
        "id": "uop_AFQSolHl"
      },
      "source": [
        "X = data[:, 0]\n",
        "Y = data[:, 1]"
      ],
      "execution_count": null,
      "outputs": []
    },
    {
      "cell_type": "markdown",
      "metadata": {
        "id": "wPSTKDAXpLAN"
      },
      "source": [
        "### Visualize the Data"
      ]
    },
    {
      "cell_type": "code",
      "metadata": {
        "id": "qdTK7EOQpL5Y",
        "colab": {
          "base_uri": "https://localhost:8080/",
          "height": 312
        },
        "outputId": "23acff38-578c-45af-ab55-de9643e7cbf8"
      },
      "source": [
        "fig = plt.figure()\n",
        "plt.scatter(X, Y)\n",
        "fig.suptitle('Student Data : Expected Marks vs Hours of Study', fontsize=18)\n",
        "plt.xlabel('Hours of Study', fontsize=14)\n",
        "plt.ylabel('Expected Marks', fontsize=14)\n",
        "plt.show()"
      ],
      "execution_count": null,
      "outputs": [
        {
          "output_type": "display_data",
          "data": {
            "image/png": "[encoded data removed]",
            "text/plain": [
              "<Figure size 432x288 with 1 Axes>"
            ]
          },
          "metadata": {
            "tags": [],
            "needs_background": "light"
          }
        }
      ]
    },
    {
      "cell_type": "markdown",
      "metadata": {
        "id": "Yrjucdifq_mt"
      },
      "source": [
        "### Hyperparameters"
      ]
    },
    {
      "cell_type": "code",
      "metadata": {
        "id": "OwVfkk3RrC_I"
      },
      "source": [
        "learning_rate = 0.0001\n",
        "max_iteration = 40"
      ],
      "execution_count": null,
      "outputs": []
    },
    {
      "cell_type": "markdown",
      "metadata": {
        "id": "EzXaG70OrZtn"
      },
      "source": [
        "### Parameters"
      ]
    },
    {
      "cell_type": "code",
      "metadata": {
        "id": "2INJM9AIrcBu"
      },
      "source": [
        "m = 0.0 # with autograd need to assign floats!\n",
        "b = 0.0 "
      ],
      "execution_count": null,
      "outputs": []
    },
    {
      "cell_type": "markdown",
      "metadata": {
        "id": "FPt2eKjBr1Lx"
      },
      "source": [
        "### Hypothesis"
      ]
    },
    {
      "cell_type": "code",
      "metadata": {
        "id": "enVE4tHWsBBF"
      },
      "source": [
        "def h (m, b, X) :\n",
        "  return m * X + b"
      ],
      "execution_count": null,
      "outputs": []
    },
    {
      "cell_type": "markdown",
      "metadata": {
        "id": "IA9I6vaXs7nb"
      },
      "source": [
        "### Loss Function"
      ]
    },
    {
      "cell_type": "code",
      "metadata": {
        "id": "OxjEKjh3U7SM"
      },
      "source": [
        "def loss (m, b, X, Y):\n",
        "  return (1/np.size(Y))*np.sum(np.square(Y - h(m, b, X))) / 2"
      ],
      "execution_count": null,
      "outputs": []
    },
    {
      "cell_type": "code",
      "metadata": {
        "id": "3KOQVUjBs-Ub"
      },
      "source": [
        "def jaxloss (m, b, X, Y):\n",
        "  return (1/jaxnp.size(Y))*jaxnp.sum(jaxnp.square(Y - h(m, b, X))) / 2"
      ],
      "execution_count": null,
      "outputs": []
    },
    {
      "cell_type": "markdown",
      "metadata": {
        "id": "7TE79NG-tyLG"
      },
      "source": [
        "### Calculate Gradients"
      ]
    },
    {
      "cell_type": "code",
      "metadata": {
        "id": "yy9yxye4t0BJ"
      },
      "source": [
        "# old gradient function that was manually derived from the loss function\n",
        "# not used in the autograd version\n",
        "def gradient (m, b, X, Y) :\n",
        "  dm = - np.average((Y - h(m, b, X)) * X)\n",
        "  db = - np.average(Y - h(m, b, X))\n",
        "  return (dm, db)"
      ],
      "execution_count": null,
      "outputs": []
    },
    {
      "cell_type": "code",
      "metadata": {
        "id": "kJIXPe5n4QX8"
      },
      "source": [
        "# autograd is used to derive the gradients\n",
        "grad_loss_m = grad(loss,0) # grad of loss wrt 0th arg, m\n",
        "grad_loss_b = grad(loss,1) # grad of loss wrt 1st arg, b\n",
        "\n",
        "def gradientAG (m, b, X, Y) :\n",
        "  dm = grad_loss_m(m,b,X,Y)\n",
        "  db = grad_loss_b(m,b,X,Y)\n",
        "  return (dm, db)\n",
        "\n"
      ],
      "execution_count": null,
      "outputs": []
    },
    {
      "cell_type": "code",
      "metadata": {
        "id": "mfxbdOh08Qlp"
      },
      "source": [
        "# JAX autograd is used to derive the gradients\n",
        "jaxgrad_loss_m = jaxgrad(jaxloss,0) # grad of loss wrt 0th arg, m\n",
        "jaxgrad_loss_b = jaxgrad(jaxloss,1) # grad of loss wrt 1st arg, b\n",
        "\n",
        "def jaxgradientAG (m, b, X, Y) :\n",
        "  dm = jaxgrad_loss_m(m,b,X,Y)\n",
        "  db = jaxgrad_loss_b(m,b,X,Y)\n",
        "  return (dm, db)\n",
        "\n"
      ],
      "execution_count": null,
      "outputs": []
    },
    {
      "cell_type": "markdown",
      "metadata": {
        "id": "jVo5TbKyu9KL"
      },
      "source": [
        "### Gradient Descent"
      ]
    },
    {
      "cell_type": "code",
      "metadata": {
        "id": "Sr9oA8RoVUHd"
      },
      "source": [
        "def gradient_descent (m, b, X, Y, learning_rate, max_iteration) :\n",
        "  for i in range(max_iteration) :\n",
        "    # replace the call to gradient with gradientAG for autograd\n",
        "    dm, db = gradient (m, b, X, Y)\n",
        "    m -= learning_rate * dm\n",
        "    b -= learning_rate * db\n",
        "    if i % 10 == 0 :\n",
        "      print ('iteration : ', i, ' loss : ', loss(m, b, X, Y)) \n",
        "  return (m, b)"
      ],
      "execution_count": null,
      "outputs": []
    },
    {
      "cell_type": "code",
      "metadata": {
        "id": "fprg4-tcu-4v"
      },
      "source": [
        "def AGgradient_descent (m, b, X, Y, learning_rate, max_iteration) :\n",
        "  for i in range(max_iteration) :\n",
        "    # replace the call to gradient with gradientAG for autograd\n",
        "    dm, db = gradientAG (m, b, X, Y)\n",
        "    m -= learning_rate * dm\n",
        "    b -= learning_rate * db\n",
        "    if i % 10 == 0 :\n",
        "      print ('iteration : ', i, ' loss : ', loss(m, b, X, Y)) \n",
        "  return (m, b)"
      ],
      "execution_count": null,
      "outputs": []
    },
    {
      "cell_type": "code",
      "metadata": {
        "id": "u3AftZyG9DJk"
      },
      "source": [
        "def jaxgradient_descent (m, b, X, Y, learning_rate, max_iteration) :\n",
        "  for i in range(max_iteration) :\n",
        "    # replace the call to gradient with gradientAG for autograd\n",
        "    dm, db = jaxgradientAG (m, b, X, Y)\n",
        "    m -= learning_rate * dm\n",
        "    b -= learning_rate * db\n",
        "    if i % 10 == 0 :\n",
        "      print ('iteration : ', i, ' loss : ', jaxloss(m, b, X, Y)) \n",
        "  return (m, b)"
      ],
      "execution_count": null,
      "outputs": []
    },
    {
      "cell_type": "markdown",
      "metadata": {
        "id": "uMIZFxUhwQZO"
      },
      "source": [
        "### Train Model"
      ]
    },
    {
      "cell_type": "code",
      "metadata": {
        "id": "-0okDGSCwUC7",
        "colab": {
          "base_uri": "https://localhost:8080/"
        },
        "outputId": "592c686d-8e81-4147-de50-2e42e90ea2fc"
      },
      "source": [
        "m1, b1 = gradient_descent (m, b, X, Y, learning_rate, max_iteration)\n",
        "m2, b2 = AGgradient_descent (m, b, X, Y, learning_rate, max_iteration)\n",
        "m3, b3 = jaxgradient_descent (m, b, X, Y, learning_rate, max_iteration)"
      ],
      "execution_count": null,
      "outputs": [
        {
          "output_type": "stream",
          "text": [
            "iteration :  0  loss :  1593.1334591670338\n",
            "iteration :  10  loss :  61.30482288585254\n",
            "iteration :  20  loss :  56.34127863702311\n",
            "iteration :  30  loss :  56.32510567688098\n",
            "iteration :  0  loss :  1593.1334591670338\n",
            "iteration :  10  loss :  61.30482288585254\n",
            "iteration :  20  loss :  56.34127863702311\n",
            "iteration :  30  loss :  56.32510567688098\n",
            "iteration :  0  loss :  1593.1334\n",
            "iteration :  10  loss :  61.30482\n",
            "iteration :  20  loss :  56.341267\n",
            "iteration :  30  loss :  56.325108\n"
          ],
          "name": "stdout"
        }
      ]
    },
    {
      "cell_type": "markdown",
      "metadata": {
        "id": "MFp2MUlexVd5"
      },
      "source": [
        "### Optimal values of Parameters using Trained Model"
      ]
    },
    {
      "cell_type": "code",
      "metadata": {
        "id": "tcMQWkuvwYu7",
        "colab": {
          "base_uri": "https://localhost:8080/"
        },
        "outputId": "9d4aeb38-5461-412b-be65-3a8005cee5b3"
      },
      "source": [
        "print(m1,b1)\n",
        "print(m2,b2)\n",
        "print(m3,b3)"
      ],
      "execution_count": null,
      "outputs": [
        {
          "output_type": "stream",
          "text": [
            "1.4788816395347437 0.03026923940654528\n",
            "1.4788816395347437 0.030269239406545283\n",
            "1.4788816 0.030269234\n"
          ],
          "name": "stdout"
        }
      ]
    },
    {
      "cell_type": "markdown",
      "metadata": {
        "id": "vsa_VlHd8ged"
      },
      "source": [
        "### Linear Regression using *polyfit*  function of **numpy**"
      ]
    },
    {
      "cell_type": "code",
      "metadata": {
        "id": "WJajnpzW8p2L"
      },
      "source": [
        "np_m, np_b = np.polyfit(X, Y, 1)"
      ],
      "execution_count": null,
      "outputs": []
    },
    {
      "cell_type": "markdown",
      "metadata": {
        "id": "MjJ7Di8z8-Qb"
      },
      "source": [
        "### Optimal values of Parameters using Numpy Linear Regression"
      ]
    },
    {
      "cell_type": "code",
      "metadata": {
        "id": "z4G5h9Ki7IJi",
        "colab": {
          "base_uri": "https://localhost:8080/"
        },
        "outputId": "eb8862fd-70e1-4c0e-c8d9-0af82641a77a"
      },
      "source": [
        "np_m, np_b"
      ],
      "execution_count": null,
      "outputs": [
        {
          "output_type": "execute_result",
          "data": {
            "text/plain": [
              "(1.3224310227553602, 7.991020982270394)"
            ]
          },
          "metadata": {
            "tags": []
          },
          "execution_count": 134
        }
      ]
    },
    {
      "cell_type": "markdown",
      "metadata": {
        "id": "Dh6PmQOwxcKk"
      },
      "source": [
        "### Visualize the Data"
      ]
    },
    {
      "cell_type": "code",
      "metadata": {
        "id": "B0h7MJE0xcKo",
        "colab": {
          "base_uri": "https://localhost:8080/",
          "height": 312
        },
        "outputId": "3615b638-e1e6-45ad-ac6c-708f7e5db793"
      },
      "source": [
        "fig = plt.figure()\n",
        "\n",
        "# Generate data for plotting Line\n",
        "x = np.arange(25, 75)\n",
        "y1 = [m1 * x_i + b1 for x_i in x]\n",
        "y2 = [m2 * x_i + b2 for x_i in x]\n",
        "y3 = [m3 * x_i + b3 for x_i in x]\n",
        "\n",
        "# Generate data for plotting Line Numpy Linear Regression\n",
        "np_x = np.arange(25, 75)\n",
        "np_y = [np_m * x_i + np_b for x_i in np_x]\n",
        "\n",
        "# plot data and best-fit lines\n",
        "plt.plot(X, Y, 'o', x, y1, '-',x, y2, '-.',x, y3, '.', np_x, np_y, '--')\n",
        "plt.legend(loc='upper left', labels=['data points', 'best-fit line normal','best-fit line Auto-grad','best-fit line JAX' ,'numpy line'])\n",
        "\n",
        "fig.suptitle('Linear Regression : Expected Marks vs Hours of Study', fontsize=18)\n",
        "plt.xlabel('Hours of Study', fontsize=14)\n",
        "plt.ylabel('Expected Marks', fontsize=14)\n",
        "plt.show()"
      ],
      "execution_count": null,
      "outputs": [
        {
          "output_type": "display_data",
          "data": {
            "image/png": "[encoded data removed]",
            "text/plain": [
              "<Figure size 432x288 with 1 Axes>"
            ]
          },
          "metadata": {
            "tags": [],
            "needs_background": "light"
          }
        }
      ]
    }
  ]
}