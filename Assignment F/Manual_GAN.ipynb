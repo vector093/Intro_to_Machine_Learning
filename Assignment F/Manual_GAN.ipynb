{
  "nbformat": 4,
  "nbformat_minor": 0,
  "metadata": {
    "colab": {
      "provenance": []
    },
    "kernelspec": {
      "name": "python3",
      "display_name": "Python 3"
    },
    "language_info": {
      "name": "python"
    }
  },
  "cells": [
    {
      "cell_type": "markdown",
      "metadata": {
        "id": "Jgv9k58flU0Q"
      },
      "source": [
        "# **Question 7**"
      ]
    },
    {
      "cell_type": "code",
      "metadata": {
        "id": "Kupe2CbjEqsG"
      },
      "source": [
        "from numpy.random import rand\n",
        "from numpy.random import randn\n",
        "\n",
        "import numpy as np\n",
        "\n",
        "from numpy import hstack\n",
        "from numpy import zeros\n",
        "from numpy import ones\n",
        "\n",
        "from matplotlib import pyplot\n",
        "from sklearn.metrics import mean_squared_error\n",
        "from scipy.special import expit as sigmoid\n",
        "\n",
        "from keras.models import Sequential\n",
        "from keras.layers import Dense\n",
        "from keras.utils.vis_utils import plot_model\n",
        "from keras import backend as k\n",
        "from keras import losses"
      ],
      "execution_count": null,
      "outputs": []
    },
    {
      "cell_type": "code",
      "metadata": {
        "id": "zlw1Qa3xwLpm"
      },
      "source": [
        "def loss_stable(z,t,N):\n",
        "  return (1./N) * np.sum(t*np.logaddexp(0,-z) + (1-t)*np.logaddexp(0,z))"
      ],
      "execution_count": null,
      "outputs": []
    },
    {
      "cell_type": "code",
      "metadata": {
        "id": "M4YLOVgSvHLM"
      },
      "source": [
        "def drelu(z):\n",
        "  z[z<=0] = 0\n",
        "  z[z>0] = 1\n",
        "  return z"
      ],
      "execution_count": null,
      "outputs": []
    },
    {
      "cell_type": "markdown",
      "metadata": {
        "id": "jGSa_SUF8b9E"
      },
      "source": [
        "# **Dataset**"
      ]
    },
    {
      "cell_type": "code",
      "metadata": {
        "id": "dSQ7O-UKEztn"
      },
      "source": [
        "# generate real randoms sample from x^2\n",
        "def generate_real_samples(n=100):\n",
        "\t# generate random inputs in [-0.5, 0.5]\n",
        "\tX1 = rand(n) - 0.5\n",
        "\t# generate outputs X^2 (quadratic)\n",
        "\tX2 = X1 * X1\n",
        "\t# stack arrays\n",
        "\tX1 = X1.reshape(n, 1)\n",
        "\tX2 = X2.reshape(n, 1)\n",
        "\tX = hstack((X1, X2))\n",
        " \t# generate class labels\n",
        "\ty = ones(n)\n",
        "\treturn X, y"
      ],
      "execution_count": null,
      "outputs": []
    },
    {
      "cell_type": "code",
      "metadata": {
        "colab": {
          "base_uri": "https://localhost:8080/",
          "height": 282
        },
        "id": "LGu4LSTLE2sB",
        "outputId": "1c3d6df9-c0d7-430d-8270-a463bd46d882"
      },
      "source": [
        "# generate samples\n",
        "data , y = generate_real_samples()\n",
        "# plot samples\n",
        "pyplot.scatter(data[:, 0], data[:, 1])\n",
        "pyplot.show()\n",
        "print(data.shape)\n"
      ],
      "execution_count": null,
      "outputs": [
        {
          "output_type": "display_data",
          "data": {
            "image/png": "[encoded data removed]",
            "text/plain": [
              "<Figure size 432x288 with 1 Axes>"
            ]
          },
          "metadata": {
            "tags": [],
            "needs_background": "light"
          }
        },
        {
          "output_type": "stream",
          "text": [
            "(100, 2)\n"
          ],
          "name": "stdout"
        }
      ]
    },
    {
      "cell_type": "markdown",
      "metadata": {
        "id": "TiHHLGNH_LWH"
      },
      "source": [
        "# Discriminator model"
      ]
    },
    {
      "cell_type": "code",
      "metadata": {
        "id": "w_a99i7WxBHF"
      },
      "source": [
        "def forward_dis(X,U,b,W,c):    \n",
        "    G = np.dot(X, U.T)  + b\n",
        "    H = G* (G>0)\n",
        "    z = np.dot(H,W.T) + c\n",
        "    y = sigmoid(z)\n",
        "    \n",
        "    return y,z,H,G"
      ],
      "execution_count": null,
      "outputs": []
    },
    {
      "cell_type": "markdown",
      "metadata": {
        "id": "Y-0NyiaM_Spo"
      },
      "source": [
        "# Generator model"
      ]
    },
    {
      "cell_type": "code",
      "metadata": {
        "id": "6MdLb2fpt04H"
      },
      "source": [
        "def forward_gen(X,U,b,W,c):    \n",
        "    G = np.dot(X, U.T)  + b\n",
        "    H = G* (G>0)\n",
        "    y = np.dot(H,W.T) + c\n",
        "    \n",
        "    return y,H,G"
      ],
      "execution_count": null,
      "outputs": []
    },
    {
      "cell_type": "markdown",
      "metadata": {
        "id": "af9IoMZ4_fW0"
      },
      "source": [
        "# Discriminator Backpropagation"
      ]
    },
    {
      "cell_type": "code",
      "metadata": {
        "id": "xocI4IOdv_vR"
      },
      "source": [
        "def grad_decent_dis(x,t,U,b,W,c):\n",
        "  N=x.shape[0]\n",
        "  #U = np.random.randn(25,2)\n",
        "  #b = np.zeros(25)\n",
        "  #W = np.random.randn(25)\n",
        "  #c = 0\n",
        "  #num_steps = 50000\n",
        "  alpha = 0.01\n",
        "  #thresh=0.02\n",
        "  #for step in range(num_steps):\n",
        "  y,z,H,G = forward_dis(x,U,b,W,c)\n",
        "  l= loss_stable(z,t,N)\n",
        "  #if (l<thresh):\n",
        "    #print('converged at step: ',step)\n",
        "    #break\n",
        "    #if (step % 1000==0):\n",
        "      #print (step,' loss = ',l)\n",
        "\n",
        "  E_bar = 1\n",
        "  z_bar = (1./N) * (y - t)\n",
        "  #y_bar = (1./N) * (y.T - t)\n",
        "  #z_bar = y_bar * (y.T*(1-y.T))\n",
        "  W_bar = np.dot(H.T,z_bar)\n",
        "  c_bar = np.dot(z_bar, np.ones(N))\n",
        "  H_bar = np.outer(z_bar, W.T )\n",
        "  G_bar = H_bar * drelu(G)\n",
        "  U_bar = np.dot(G_bar.T, x)\n",
        "  b_bar = np.dot(G_bar.T , np.ones(N))\n",
        "  \n",
        "  U -= alpha * U_bar\n",
        "  b -= alpha * b_bar\n",
        "  W -= alpha * W_bar\n",
        "  c -= alpha * c_bar\n",
        "  \n",
        "  return U,b,W,c,l"
      ],
      "execution_count": null,
      "outputs": []
    },
    {
      "cell_type": "markdown",
      "metadata": {
        "id": "Q8cv-z4j_p4w"
      },
      "source": [
        "# Generator data generation"
      ]
    },
    {
      "cell_type": "code",
      "metadata": {
        "id": "g461fDZJFqSN"
      },
      "source": [
        "# generate points in latent space as input for the generator\n",
        "def generate_latent_points(latent_dim, n):\n",
        "\t# generate points in the latent space\n",
        "\tx_input = randn(latent_dim * n)\n",
        "\t# reshape into a batch of inputs for the network\n",
        "\tx_input = x_input.reshape(n, latent_dim)\n",
        "\treturn x_input"
      ],
      "execution_count": null,
      "outputs": []
    },
    {
      "cell_type": "code",
      "metadata": {
        "id": "CB0sEw_7FumT"
      },
      "source": [
        "def generate_fake_samples_gen(latent_dim, n, U,b,W,c):\n",
        "\t# generate points in latent space\n",
        "\tx_input = generate_latent_points(latent_dim, n)\n",
        "\t# predict outputs\n",
        "\tX,H,G = forward_gen(x_input,U,b,W,c)\n",
        "\t# create class labels\n",
        "\ty = zeros(n)\n",
        "\treturn X, y, H,G,x_input"
      ],
      "execution_count": null,
      "outputs": []
    },
    {
      "cell_type": "markdown",
      "metadata": {
        "id": "2uIEBTLq_w7T"
      },
      "source": [
        "# Generator Backpropagation"
      ]
    },
    {
      "cell_type": "code",
      "metadata": {
        "id": "bOyXDvHPRBK3"
      },
      "source": [
        "def grad_decent_gen(t,U,b,W,c,Ug,bg,Wg,cg,latent_dim,n):\n",
        "  x,_,Hg,Gg, latent_x= generate_fake_samples_gen(latent_dim, n, Ug,bg,Wg,cg)\n",
        "  N=x.shape[0]\n",
        "  #U = np.random.randn(25,2)\n",
        "  #b = np.zeros(25)\n",
        "  #W = np.random.randn(25)\n",
        "  #c = 0\n",
        "  #num_steps = 50000\n",
        "  alpha = 0.001\n",
        "  #thresh=0.02\n",
        "  #for step in range(num_steps):\n",
        "  y,z,H,G = forward_dis(x,U,b,W,c)\n",
        "  l= loss_stable(z,t,N)\n",
        "  #if (l<thresh):\n",
        "    #print('converged at step: ',step)\n",
        "    #break\n",
        "    #if (step % 1000==0):\n",
        "      #print (step,' loss = ',l)\n",
        "\n",
        "  z_bar = (1./N) * (y - t)\n",
        "  H_bar = np.outer(z_bar, W.T )\n",
        "  G_bar = H_bar * drelu(G)\n",
        "  x_bar = np.dot(G_bar,U)\n",
        "  z_bar = x_bar\n",
        "  W_bar = np.dot(z_bar.T,Hg)\n",
        "  c_bar = np.dot(np.ones(N),z_bar)\n",
        "  H_bar = np.dot(z_bar, Wg )\n",
        "  G_bar = H_bar * drelu(Gg)\n",
        "  U_bar = np.dot(G_bar.T, latent_x)\n",
        "  b_bar = np.dot(G_bar.T , np.ones(N))\n",
        "  \n",
        "  Ug -= alpha * U_bar\n",
        "  bg -= alpha * b_bar\n",
        "  Wg -= alpha * W_bar\n",
        "  cg -= alpha * c_bar\n",
        "  \n",
        "  return Ug,bg,Wg,cg,l"
      ],
      "execution_count": null,
      "outputs": []
    },
    {
      "cell_type": "markdown",
      "metadata": {
        "id": "lgPpEdkxAFrE"
      },
      "source": [
        "# Final GAN model and training"
      ]
    },
    {
      "cell_type": "code",
      "metadata": {
        "colab": {
          "base_uri": "https://localhost:8080/",
          "height": 1000
        },
        "id": "F1JFOAvF0wy9",
        "outputId": "411bffb0-603e-4792-f739-ef2ef807a1b2"
      },
      "source": [
        "n_epochs=20001\n",
        "n_batch=128\n",
        "l=0\n",
        "latent_dim = 5 \n",
        "\n",
        "U = np.random.randn(25,2)\n",
        "b = np.zeros(25)\n",
        "W = np.random.randn(25)\n",
        "c = 0\n",
        "\n",
        "Ug = np.random.randn(15,5)\n",
        "bg = np.zeros(15)\n",
        "Wg = np.random.randn(2,15)\n",
        "cg = np.zeros(2)\n",
        "\n",
        "\n",
        "for i in range(n_epochs):\n",
        "  # generate real examples\n",
        "  X_real, y_real = generate_real_samples(half_batch)\n",
        "  # update discriminator model\n",
        "  U,b,W,c,l=grad_decent_dis(X_real,y_real,U,b,W,c)\n",
        "  if (i%4000==0):\n",
        "    print('Discriminator loss real',i,':',l)\n",
        "  # generate fake examples\n",
        "  X_fake, y_fake,Hg,Gg,latent_x = generate_fake_samples_gen(latent_dim,half_batch,Ug,bg,Wg,cg)\n",
        "  # update discriminator model\n",
        "  U,b,W,c,l=grad_decent_dis(X_fake,y_fake,U,b,W,c)\n",
        "  if (i%4000==0):\n",
        "    print('Discriminator loss fake',i,':',l)\n",
        "  #train the generator model\n",
        "  Ug,bg,Wg,cg,l = grad_decent_gen(np.ones(n_batch),U,b,W,c,Ug,bg,Wg,cg,latent_dim,n_batch)\n",
        "  if (i%4000==0):\n",
        "    print('Generator loss',i,':',l)\n",
        "    pyplot.scatter(X_real[:, 0], X_real[:, 1], color='red')\n",
        "    pyplot.scatter(X_fake[:, 0], X_fake[:, 1], color='blue')\n",
        "    pyplot.show()\n",
        "\n",
        "\n",
        "\n",
        "\n",
        "\n"
      ],
      "execution_count": null,
      "outputs": [
        {
          "output_type": "stream",
          "text": [
            "Discriminator loss real 0 : 0.4747555792634539\n",
            "Discriminator loss fake 0 : 33.52022145779241\n",
            "Generator loss 0 : 0.0009854603279658707\n"
          ],
          "name": "stdout"
        },
        {
          "output_type": "display_data",
          "data": {
            "image/png": "[encoded data removed]",
            "text/plain": [
              "<Figure size 432x288 with 1 Axes>"
            ]
          },
          "metadata": {
            "tags": [],
            "needs_background": "light"
          }
        },
        {
          "output_type": "stream",
          "text": [
            "Discriminator loss real 4000 : 0.6742679308560113\n",
            "Discriminator loss fake 4000 : 0.6622314971280567\n",
            "Generator loss 4000 : 0.7711444227533917\n"
          ],
          "name": "stdout"
        },
        {
          "output_type": "display_data",
          "data": {
            "image/png": "[encoded data removed]",
            "text/plain": [
              "<Figure size 432x288 with 1 Axes>"
            ]
          },
          "metadata": {
            "tags": [],
            "needs_background": "light"
          }
        },
        {
          "output_type": "stream",
          "text": [
            "Discriminator loss real 8000 : 0.6719639277806612\n",
            "Discriminator loss fake 8000 : 0.6901468099080383\n",
            "Generator loss 8000 : 0.7899212772449655\n"
          ],
          "name": "stdout"
        },
        {
          "output_type": "display_data",
          "data": {
            "image/png": "[encoded data removed]",
            "text/plain": [
              "<Figure size 432x288 with 1 Axes>"
            ]
          },
          "metadata": {
            "tags": [],
            "needs_background": "light"
          }
        },
        {
          "output_type": "stream",
          "text": [
            "Discriminator loss real 12000 : 0.7074233669054396\n",
            "Discriminator loss fake 12000 : 0.7004637099317828\n",
            "Generator loss 12000 : 0.7304616141340543\n"
          ],
          "name": "stdout"
        },
        {
          "output_type": "display_data",
          "data": {
            "image/png": "[encoded data removed]",
            "text/plain": [
              "<Figure size 432x288 with 1 Axes>"
            ]
          },
          "metadata": {
            "tags": [],
            "needs_background": "light"
          }
        },
        {
          "output_type": "stream",
          "text": [
            "Discriminator loss real 16000 : 0.7022284859361609\n",
            "Discriminator loss fake 16000 : 0.7034814613068479\n",
            "Generator loss 16000 : 0.7128372253233979\n"
          ],
          "name": "stdout"
        },
        {
          "output_type": "display_data",
          "data": {
            "image/png": "[encoded data removed]",
            "text/plain": [
              "<Figure size 432x288 with 1 Axes>"
            ]
          },
          "metadata": {
            "tags": [],
            "needs_background": "light"
          }
        },
        {
          "output_type": "stream",
          "text": [
            "Discriminator loss real 20000 : 0.7072081649916047\n",
            "Discriminator loss fake 20000 : 0.6987434467645222\n",
            "Generator loss 20000 : 0.7161312557414106\n"
          ],
          "name": "stdout"
        },
        {
          "output_type": "display_data",
          "data": {
            "image/png": "[encoded data removed]",
            "text/plain": [
              "<Figure size 432x288 with 1 Axes>"
            ]
          },
          "metadata": {
            "tags": [],
            "needs_background": "light"
          }
        }
      ]
    },
    {
      "cell_type": "markdown",
      "metadata": {
        "id": "hy7CqzTNAwrY"
      },
      "source": [
        "**We can see as we train the generator gets more competent in producing data that resembles the dataset**"
      ]
    }
  ]
}