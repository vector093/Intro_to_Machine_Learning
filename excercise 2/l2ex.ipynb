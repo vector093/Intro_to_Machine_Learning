{
  "nbformat": 4,
  "nbformat_minor": 0,
  "metadata": {
    "colab": {
      "provenance": []
    },
    "kernelspec": {
      "name": "python3",
      "display_name": "Python 3"
    }
  },
  "cells": [
    {
      "cell_type": "code",
      "metadata": {
        "id": "R-JWFcAu7VZe"
      },
      "source": [
        "# A general multi-dimensional system can go through linear regression with the help of a feature function g() the maps the multi dimensional data to a linear space that then can undergo linear regression in the method we have done."
      ],
      "execution_count": null,
      "outputs": []
    },
    {
      "cell_type": "code",
      "metadata": {
        "id": "ZJkiD3vh18yU"
      },
      "source": [
        "# The structure of vectors for the perceptron learning are the same for AND, OR & XOR-\n",
        "# x=[x1,x2,x3,x4], y=[y1,y2,y3,y4] and the weight vector is w=[[w0],[w1],[w2]]\n",
        "# combining x and y and the 1 for the bias we get we get X=[[1,1,1,1],[x1,x2,x3,x4],[y1,y2,y3,y4]]\n",
        "\n",
        "#for the NOT function our vectors are X=[[1,1],[x1,x2]] and w=[[w0],[w1]]"
      ],
      "execution_count": null,
      "outputs": []
    },
    {
      "cell_type": "code",
      "metadata": {
        "id": "n3d_SlLSju0Z"
      },
      "source": [
        "import matplotlib\n",
        "import numpy as np\n",
        "import matplotlib.pyplot as plt"
      ],
      "execution_count": null,
      "outputs": []
    },
    {
      "cell_type": "code",
      "metadata": {
        "id": "pPSNG9WTkCSJ"
      },
      "source": [
        "def plr2d_vectorize(X ,T, N):\n",
        "    #initilize input as np array and convert to row vector\n",
        "    X=np.array(X)\n",
        "    if (np.size(X,0) >= np.size(X,1)):\n",
        "      X=np.transpose(X)\n",
        "\n",
        "    #initilize weight vector\n",
        "    W=np.zeros((X.shape[0]+1,1))\n",
        "    \n",
        "    # Perceptron learning\n",
        "    for n in range(0,N,1):\n",
        "      mismatched=False\n",
        "      for i in range(T.shape[0]):\n",
        "        z=np.dot(X[:,i],W[1:])+W[0]\n",
        "        if z*(T[i]) <= 0:\n",
        "          mismatched = True\n",
        "          W[0] = W[0] + (T[i])*1\n",
        "          W[1] = W[1] + (T[i])*(X[0,i])\n",
        "          W[2] = W[2] + (T[i])*(X[1,i])\n",
        "      if mismatched == False:\n",
        "        print(\"converged: n=\",n)\n",
        "        break\n",
        "\n",
        "    print(\"learning done\")\n",
        "    for i in range(0,T.shape[0]):\n",
        "      z=np.dot(X[:,i],W[1:])+W[0]\n",
        "      if z*(T[i]) <= 0:\n",
        "        print(\"mismatch[\",i,\"]\")\n",
        "\n",
        "    return W"
      ],
      "execution_count": null,
      "outputs": []
    },
    {
      "cell_type": "code",
      "metadata": {
        "id": "3QM-q-4Qm3ix"
      },
      "source": [
        "def plr1d(x1,t,N):\n",
        "  w0=0\n",
        "  w1=0\n",
        "  for n in range(0,N,1):\n",
        "    mismatched = False\n",
        "    for i in range(0,t.size,1):\n",
        "      z=w0 + x1[i]*w1\n",
        "      if z*(t[i]) <= 0:\n",
        "        mismatched = True\n",
        "        w0 = w0 + (t[i])*1\n",
        "        w1 = w1 + (t[i])*(x1[i])\n",
        "    if mismatched == False:\n",
        "      print(\"converged: n=\",n)\n",
        "      break\n",
        "  print(\"learning done\")\n",
        "  for i in range(0,t.size,1):\n",
        "      z=w0 + x1[i]*w1\n",
        "      if z*(t[i]) <= 0:\n",
        "        print(\"mismatch[\",i,\"]\")\n",
        "  return [w0,w1]"
      ],
      "execution_count": null,
      "outputs": []
    },
    {
      "cell_type": "code",
      "metadata": {
        "id": "nT55YewN1SUF"
      },
      "source": [
        "def plot_sep(w, X, Y, color='green'):\n",
        "  ''' Plot decision boundary hypothesis\n",
        "  w1 * sepal_len + w2 * sepal_wid = 0\n",
        "  in input space, highlighting the hyperplane '''\n",
        "  w0=w[0]\n",
        "  w1=w[1]\n",
        "  w2=w[2]\n",
        "  plt.scatter(X[:,0],X[:,1],c=Y,cmap=plt.cm.Paired)\n",
        "  plt.title(\"Separation in Input Space\")\n",
        "  plt.ylim([np.amin(X[:,1]),np.amax(X[:,1])])\n",
        "  plt.xlim([np.amin(X[:,0]),np.amax(X[:,0])])\n",
        "  plt.xlabel(\"X1\")\n",
        "  plt.ylabel(\"X2\")\n",
        "  if w2 != 0:\n",
        "     m = -w1/w2\n",
        "     t = 1 if w2 > 0 else -1\n",
        "     plt.plot([np.amin(X[:,0]),np.amax(X[:,0])],[np.amin(X[:,0])*m- w0/w2, np.amax(X[:,0])*m- w0/w2],'-y',color=color)\n",
        "     plt.fill_between(\n",
        "                    [np.amin(X[:,0]),np.amax(X[:,0])],\n",
        "                    [np.amin(X[:,0])*m- w0/w2, np.amax(X[:,0])*m- w0/w2],\n",
        "                    [t*np.amax(np.abs(X[:,1]))],\n",
        "                    alpha=0.2,\n",
        "                    color=color)\n",
        "  if w2 == 0: # decision boundary is vertical\n",
        "      t = 1 if w1 > 0 else -1\n",
        "      plt.plot([0, 0],[np.amin(X[:,0]), np.amax(X[:,0])],'-y',color=color)\n",
        "      plt.fill_between(\n",
        "                    [0, np.amax(np.abs(X))*t],\n",
        "                    [-np.amax(np.abs(X))],\n",
        "                    [np.amax(np.abs(X))],\n",
        "                    alpha=0.2,\n",
        "                    color=color)"
      ],
      "execution_count": null,
      "outputs": []
    },
    {
      "cell_type": "code",
      "metadata": {
        "id": "N59F94Td3O0h"
      },
      "source": [
        "def plot_sep1(x,y, w, color='green'):\n",
        "  ''' Plot decision boundary hypothesis\n",
        "  w1 * sepal_len + w2 * sepal_wid = 0\n",
        "  in input space, highlighting the hyperplane '''\n",
        "  w0=w[0]\n",
        "  w1=w[1]\n",
        "  plt.scatter(x,x,c=y,cmap=plt.cm.Paired)\n",
        "  plt.title(\"Separation in Input Space\")\n",
        "  plt.ylim([np.amin(x),np.amax(x)])\n",
        "  plt.xlim([np.amin(x),np.amax(x)])\n",
        "  plt.xlabel(\"sepal length\")\n",
        "  plt.ylabel(\"sepal width\")\n",
        "\n",
        "  t = 1 if w1 > 0 else -1\n",
        "  plt.plot([np.amin(x),np.amax(x)],[np.amin(x)*w1+w0,np.amax(x)*w1+w0],'-y',color=color)\n",
        "  plt.fill_between(\n",
        "                    [np.amin(x),np.amax(x)],\n",
        "                    [np.amin(x)*w1+w0,np.amax(x)*w1+w0],\n",
        "                    [t*np.amax(x), t*np.amax(x)],\n",
        "                    alpha=0.2,\n",
        "                    color=color)"
      ],
      "execution_count": null,
      "outputs": []
    },
    {
      "cell_type": "code",
      "metadata": {
        "colab": {
          "base_uri": "https://localhost:8080/",
          "height": 346
        },
        "id": "oB2qTjg_kqSi",
        "outputId": "c89cc545-25f7-4cf9-e439-22264f11bb8c"
      },
      "source": [
        "# AND function\n",
        "x=np.array([[-1,-1,1,1],[-1,1,-1,1]])\n",
        "t=np.array([-1,-1,-1,1])\n",
        "[[w0],[w1],[w2]]=plr2d_vectorize(x,t,2)\n",
        "print([w0,w1,w2])\n",
        "plot_sep([w0,w1,w2], np.transpose(x), t)"
      ],
      "execution_count": null,
      "outputs": [
        {
          "output_type": "stream",
          "text": [
            "converged: n= 1\n",
            "learning done\n",
            "[-1.0, 1.0, 1.0]\n"
          ],
          "name": "stdout"
        },
        {
          "output_type": "display_data",
          "data": {
            "image/png": "[encoded data removed]",
            "text/plain": [
              "<Figure size 432x288 with 1 Axes>"
            ]
          },
          "metadata": {
            "tags": [],
            "needs_background": "light"
          }
        }
      ]
    },
    {
      "cell_type": "code",
      "metadata": {
        "colab": {
          "base_uri": "https://localhost:8080/",
          "height": 346
        },
        "id": "aNBmc4jWmD29",
        "outputId": "d84f5d75-057d-459b-c21e-ffd2b7fa38f7"
      },
      "source": [
        "# OR function\n",
        "x=np.array([[-1,-1,1,1],[-1,1,-1,1]])\n",
        "t=np.array([-1,1,1,1])\n",
        "[[w0],[w1],[w2]]=plr2d_vectorize(x,t,2)\n",
        "print([w0,w1,w2])\n",
        "plot_sep([w0,w1,w2], np.transpose(x), t)"
      ],
      "execution_count": null,
      "outputs": [
        {
          "output_type": "stream",
          "text": [
            "converged: n= 1\n",
            "learning done\n",
            "[1.0, 1.0, 1.0]\n"
          ],
          "name": "stdout"
        },
        {
          "output_type": "display_data",
          "data": {
            "image/png": "[encoded data removed]",
            "text/plain": [
              "<Figure size 432x288 with 1 Axes>"
            ]
          },
          "metadata": {
            "tags": [],
            "needs_background": "light"
          }
        }
      ]
    },
    {
      "cell_type": "code",
      "metadata": {
        "colab": {
          "base_uri": "https://localhost:8080/",
          "height": 346
        },
        "id": "ypbmaljgsOU5",
        "outputId": "2854c145-15ae-4ada-c87b-8ff8b7dffef0"
      },
      "source": [
        "# NOT function\n",
        "x=np.array([-1,1])\n",
        "t=np.array([1,-1])\n",
        "[w0,w1]=plr1d(x,t,2)\n",
        "print([w0,w1])\n",
        "plot_sep1(x,t, [w0,w1])"
      ],
      "execution_count": null,
      "outputs": [
        {
          "output_type": "stream",
          "text": [
            "converged: n= 1\n",
            "learning done\n",
            "[0, -2]\n"
          ],
          "name": "stdout"
        },
        {
          "output_type": "display_data",
          "data": {
            "image/png": "[encoded data removed]",
            "text/plain": [
              "<Figure size 432x288 with 1 Axes>"
            ]
          },
          "metadata": {
            "tags": [],
            "needs_background": "light"
          }
        }
      ]
    },
    {
      "cell_type": "code",
      "metadata": {
        "colab": {
          "base_uri": "https://localhost:8080/",
          "height": 396
        },
        "id": "usszOC8II674",
        "outputId": "a6fb14ed-0196-45ba-f9a2-46fa5cec0d1e"
      },
      "source": [
        "# XOR function\n",
        "x=np.array([[-1,-1,1,1],[-1,1,-1,1]])\n",
        "t=np.array([-1,1,1,-1])\n",
        "[[w0],[w1],[w2]]=plr2d_vectorize(x,t,1)\n",
        "print([w0,w1,w2])\n",
        "plot_sep([w0,w1,w2], np.transpose(x), t)"
      ],
      "execution_count": null,
      "outputs": [
        {
          "output_type": "stream",
          "text": [
            "learning done\n",
            "mismatch[ 0 ]\n",
            "mismatch[ 1 ]\n",
            "mismatch[ 2 ]\n",
            "mismatch[ 3 ]\n",
            "[0.0, 0.0, 0.0]\n"
          ],
          "name": "stdout"
        },
        {
          "output_type": "display_data",
          "data": {
            "image/png": "[encoded data removed]",
            "text/plain": [
              "<Figure size 432x288 with 1 Axes>"
            ]
          },
          "metadata": {
            "tags": [],
            "needs_background": "light"
          }
        }
      ]
    },
    {
      "cell_type": "code",
      "metadata": {
        "id": "fAwXoP5OzuxJ"
      },
      "source": [
        "# the weights we achieve from the code match the ones that were calculated by hand using the perceptron learning rule.\n",
        "#from the graph plotted above we can see that the XOR function in non linear as the 2 classifications are not 2 disjoint convex sets-\n",
        "# at 0,0 there exists a point that exists on both the lines drawn from -1, -1 to 1,1 and 1,0 to 0,1.  "
      ],
      "execution_count": null,
      "outputs": []
    }
  ]
}