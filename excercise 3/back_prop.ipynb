{
  "nbformat": 4,
  "nbformat_minor": 0,
  "metadata": {
    "colab": {
      "provenance": []
    },
    "kernelspec": {
      "name": "python3",
      "display_name": "Python 3"
    }
  },
  "cells": [
    {
      "cell_type": "code",
      "metadata": {
        "id": "mLfm4IlLiJdJ"
      },
      "source": [
        "import numpy as np\n",
        "from scipy.special import expit as sigmoid\n",
        "import math\n",
        "import matplotlib.pyplot as plt\n",
        "import sklearn as sklearn\n",
        "from sklearn.datasets import load_iris"
      ],
      "execution_count": null,
      "outputs": []
    },
    {
      "cell_type": "code",
      "metadata": {
        "id": "Eb0ObK3Dc7NP"
      },
      "source": [
        "np.random.seed(0)\n",
        "\n",
        "def make_dataset(num_points):\n",
        "    radius = 5\n",
        "    data = []\n",
        "    labels = []\n",
        "    # Generate positive examples (labeled 1).\n",
        "    for i in range(num_points // 2):\n",
        "        r = np.random.uniform(0, radius*0.5)\n",
        "        angle = np.random.uniform(0, 2*math.pi)\n",
        "        x = r * math.sin(angle)\n",
        "        y = r * math.cos(angle)\n",
        "        data.append([x, y])\n",
        "        labels.append(1)\n",
        "        \n",
        "    # Generate negative examples (labeled 0).\n",
        "    for i in range(num_points // 2):\n",
        "        r = np.random.uniform(radius*0.7, radius)\n",
        "        angle = np.random.uniform(0, 2*math.pi)\n",
        "        x = r * math.sin(angle)\n",
        "        y = r * math.cos(angle)\n",
        "        data.append([x, y])\n",
        "        labels.append(0)\n",
        "        \n",
        "    data = np.asarray(data)\n",
        "    labels = np.asarray(labels)\n",
        "    return data, labels"
      ],
      "execution_count": null,
      "outputs": []
    },
    {
      "cell_type": "code",
      "metadata": {
        "id": "pKGdUm5ky3BH"
      },
      "source": [
        "X,Y = make_dataset(100)\n"
      ],
      "execution_count": null,
      "outputs": []
    },
    {
      "cell_type": "code",
      "metadata": {
        "id": "HGxmrbI39wzr"
      },
      "source": [
        "def loss(y,Y,n):\n",
        "  return (np.divide(np.sum(np.square(np.subtract(y,Y))),2*n))"
      ],
      "execution_count": null,
      "outputs": []
    },
    {
      "cell_type": "code",
      "metadata": {
        "id": "3oykMWxDisyL"
      },
      "source": [
        "def grad_decent(x,h,k,t):\n",
        "  N=x.shape[0]\n",
        "  U = np.random.randn(h,x.shape[1])\n",
        "  b = np.zeros(h)\n",
        "  W = np.random.randn(k,h)\n",
        "  c = np.zeros(k)\n",
        " \n",
        "  num_steps = 1000\n",
        "  alpha = 0.01\n",
        "  for step in range(num_steps):\n",
        "    G = np.add(np.dot(x,U.T),b)  \n",
        "    H = np.tanh(G)\n",
        "    z = np.add(np.dot(H,W.T),c)\n",
        "    y = sigmoid(z)\n",
        "    if (step % 50==0):\n",
        "      l=loss(y,Y,N)\n",
        "      print (step,' loss = ',l)\n",
        "\n",
        "    E_bar = 1\n",
        "    y_bar = (1./N) * (y.T - t)\n",
        "    z_bar = y_bar * (y.T*(1-y.T))\n",
        "    W_bar = np.dot(H.T,z_bar.T)\n",
        "    c_bar = np.dot(z_bar, np.ones(N))\n",
        "    H_bar = np.outer(z_bar, W.T )\n",
        "    G_bar = H_bar * (1 - np.tanh(G)**2)\n",
        "    U_bar = np.dot(G_bar.T, x)\n",
        "    b_bar = np.dot(G_bar.T , np.ones(N))\n",
        "    \n",
        "    U -= alpha * U_bar\n",
        "    b -= alpha * b_bar\n",
        "    W -= alpha * np.transpose(W_bar)\n",
        "    c -= alpha * c_bar\n",
        "\n"
      ],
      "execution_count": null,
      "outputs": []
    },
    {
      "cell_type": "code",
      "metadata": {
        "colab": {
          "base_uri": "https://localhost:8080/"
        },
        "id": "5bsfyjtLz710",
        "outputId": "c520d45b-2127-4f71-da86-d597588c601d"
      },
      "source": [
        "grad_decent(X,3,1,Y)"
      ],
      "execution_count": null,
      "outputs": [
        {
          "output_type": "stream",
          "text": [
            "0  loss =  18.099140264655038\n",
            "50  loss =  17.96644154021948\n",
            "100  loss =  17.83126968805623\n",
            "150  loss =  17.693761488942787\n",
            "200  loss =  17.55413979524893\n",
            "250  loss =  17.412715144855145\n",
            "300  loss =  17.26987625377406\n",
            "350  loss =  17.126068740152927\n",
            "400  loss =  16.981765216850103\n",
            "450  loss =  16.837433290675726\n",
            "500  loss =  16.693509050737763\n",
            "550  loss =  16.550381597105332\n",
            "600  loss =  16.408390225283423\n",
            "650  loss =  16.267832123453335\n",
            "700  loss =  16.12897630874503\n",
            "750  loss =  15.992079196321237\n",
            "800  loss =  15.857398005574128\n",
            "850  loss =  15.725199432285924\n",
            "900  loss =  15.595762242897246\n",
            "950  loss =  15.469373564521446\n"
          ],
          "name": "stdout"
        }
      ]
    }
  ]
}