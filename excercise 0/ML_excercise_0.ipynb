{
  "nbformat": 4,
  "nbformat_minor": 0,
  "metadata": {
    "colab": {
      "provenance": []
    },
    "kernelspec": {
      "name": "python3",
      "display_name": "Python 3"
    }
  },
  "cells": [
    {
      "cell_type": "code",
      "metadata": {
        "colab": {
          "base_uri": "https://localhost:8080/"
        },
        "id": "lV6yJRVfT5ob",
        "outputId": "5424931f-d0de-4478-acb1-53b49f0e92de"
      },
      "source": [
        "def funcA(N):\n",
        "  l=[]\n",
        "  if (N>=1 and N%1==0):\n",
        "    num=2\n",
        "\n",
        "    while len(l)<N:\n",
        "      for i in range(2,int(num/2)+1):  \n",
        "        if (num % i) == 0:  \n",
        "          break  \n",
        "      else:  \n",
        "        l.append(num)\n",
        "      num +=1\n",
        "    \n",
        "    print(l)\n",
        "\n",
        "  else:\n",
        "    print(\"Enter a positive integer\")\n",
        "\n",
        "\n",
        "def funcB(N):\n",
        "  l=[]\n",
        "  if (N>=1 and N%1==0):\n",
        "    n1, n2 = 0, 1\n",
        "    count = 0\n",
        "\n",
        "    if N == 1:\n",
        "      l.append(n1)\n",
        "\n",
        "    else:\n",
        "      while count < N:\n",
        "        l.append(n1)\n",
        "        nt = n1 + n2\n",
        "        n1 = n2\n",
        "        n2 = nt\n",
        "        count += 1\n",
        "    \n",
        "    print(l)\n",
        "  \n",
        "  else:\n",
        "    print(\"Enter a positive integer\")\n",
        "\n",
        "def funcC(N):\n",
        "  l=[]\n",
        "  if (N>=1 and N%1==0):\n",
        "    for num in range(N):\n",
        "      if num > 1:  \n",
        "        for i in range(2,int(num/2)+1):  \n",
        "          if (num % i) == 0:  \n",
        "            break  \n",
        "        else:  \n",
        "          l.append(num)\n",
        "    \n",
        "    print (l)\n",
        "  \n",
        "  else:\n",
        "    print(\"Enter a positive integer\")\n",
        "        \n",
        "\n",
        "def funcD(N):\n",
        "  l=[]\n",
        "  if (N>=1 and N%1==0):\n",
        "    n1, n2 = 0, 1\n",
        "    while n1<N:\n",
        "      l.append(n1)\n",
        "      nt = n1 + n2\n",
        "      n1 = n2\n",
        "      n2 = nt\n",
        "    \n",
        "    print(l)\n",
        "\n",
        "  else:\n",
        "    print(\"Enter a positive integer\")\n",
        "\n",
        "\n",
        "funcA(20)\n",
        "funcB(10)\n",
        "funcC(100)\n",
        "funcD(100)\n"
      ],
      "execution_count": null,
      "outputs": [
        {
          "output_type": "stream",
          "text": [
            "[2, 3, 5, 7, 11, 13, 17, 19, 23, 29, 31, 37, 41, 43, 47, 53, 59, 61, 67, 71]\n",
            "[0, 1, 1, 2, 3, 5, 8, 13, 21, 34]\n",
            "[2, 3, 5, 7, 11, 13, 17, 19, 23, 29, 31, 37, 41, 43, 47, 53, 59, 61, 67, 71, 73, 79, 83, 89, 97]\n",
            "[0, 1, 1, 2, 3, 5, 8, 13, 21, 34, 55, 89]\n"
          ],
          "name": "stdout"
        }
      ]
    }
  ]
}