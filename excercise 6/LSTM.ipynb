{
  "nbformat": 4,
  "nbformat_minor": 0,
  "metadata": {
    "colab": {
      "provenance": []
    },
    "kernelspec": {
      "name": "python3",
      "display_name": "Python 3"
    }
  },
  "cells": [
    {
      "cell_type": "code",
      "metadata": {
        "id": "-sbgDmTISM1D"
      },
      "source": [
        "import numpy\n",
        "import pandas\n",
        "import matplotlib.pyplot as plt\n",
        "import math\n",
        "from keras.models import Sequential\n",
        "from keras.layers import Dense\n",
        "from keras.layers import LSTM\n",
        "from sklearn.preprocessing import MinMaxScaler\n",
        "from sklearn.metrics import mean_squared_error\n"
      ],
      "execution_count": null,
      "outputs": []
    },
    {
      "cell_type": "code",
      "metadata": {
        "colab": {
          "base_uri": "https://localhost:8080/",
          "height": 265
        },
        "id": "w5eV32aEUpvU",
        "outputId": "5a95f934-9ac6-4680-d7c0-fdb8b5dbbd0a"
      },
      "source": [
        "dataset = pandas.read_csv('airline-passengers.csv', usecols=[1], engine='python')\n",
        "plt.plot(dataset)\n",
        "plt.show()"
      ],
      "execution_count": null,
      "outputs": [
        {
          "output_type": "display_data",
          "data": {
            "image/png": "[encoded data removed]",
            "text/plain": [
              "<Figure size 432x288 with 1 Axes>"
            ]
          },
          "metadata": {
            "tags": [],
            "needs_background": "light"
          }
        }
      ]
    },
    {
      "cell_type": "markdown",
      "metadata": {
        "id": "bLzwDn7IuIo7"
      },
      "source": [
        "# **LSTM Network for Regression**"
      ]
    },
    {
      "cell_type": "code",
      "metadata": {
        "id": "4eFcvBWwU_Gm"
      },
      "source": [
        "def create_dataset(dataset, look_back=1):\n",
        "\tdataX, dataY = [], []\n",
        "\tfor i in range(len(dataset)-look_back-1):\n",
        "\t\ta = dataset[i:(i+look_back), 0]\n",
        "\t\tdataX.append(a)\n",
        "\t\tdataY.append(dataset[i + look_back, 0])\n",
        "\treturn np.array(dataX), np.array(dataY)"
      ],
      "execution_count": null,
      "outputs": []
    },
    {
      "cell_type": "code",
      "metadata": {
        "id": "9eU-1EOMVK1L"
      },
      "source": [
        "# fix random seed for reproducibility\n",
        "numpy.random.seed(7)\n",
        "# load the dataset\n",
        "dataset = dataset.values\n",
        "dataset = dataset.astype('float32')\n",
        "\n",
        "\n",
        "# normalize the dataset\n",
        "scaler = MinMaxScaler(feature_range=(0, 1))\n",
        "dataset = scaler.fit_transform(dataset)\n",
        "\n",
        "# split into train and test sets\n",
        "train_size = int(len(dataset) * 0.67)\n",
        "test_size = len(dataset) - train_size\n",
        "train, test = dataset[0:train_size,:], dataset[train_size:len(dataset),:]\n",
        "\n",
        "# reshape into X=t and Y=t+1\n",
        "look_back = 1\n",
        "trainX, trainY = create_dataset(train, look_back)\n",
        "testX, testY = create_dataset(test, look_back)\n",
        "\n",
        "\n",
        "# reshape input to be [samples, time steps, features]\n",
        "trainX = numpy.reshape(trainX, (trainX.shape[0], 1, trainX.shape[1]))\n",
        "testX = numpy.reshape(testX, (testX.shape[0], 1, testX.shape[1]))"
      ],
      "execution_count": null,
      "outputs": []
    },
    {
      "cell_type": "code",
      "metadata": {
        "colab": {
          "base_uri": "https://localhost:8080/"
        },
        "collapsed": true,
        "id": "TnKhCfXAaMUV",
        "outputId": "dbe6f9f5-9584-490e-cefa-fed24bb4f2b2"
      },
      "source": [
        "# create and fit the LSTM network\n",
        "model = Sequential()\n",
        "model.add(LSTM(4, input_shape=(1, look_back)))\n",
        "model.add(Dense(1))\n",
        "model.compile(loss='mean_squared_error', optimizer='adam')\n",
        "model.fit(trainX, trainY, epochs=100, batch_size=1, verbose=2)"
      ],
      "execution_count": null,
      "outputs": [
        {
          "output_type": "stream",
          "text": [
            "Epoch 1/100\n",
            "94/94 - 2s - loss: 0.0420\n",
            "Epoch 2/100\n",
            "94/94 - 0s - loss: 0.0216\n",
            "Epoch 3/100\n",
            "94/94 - 0s - loss: 0.0171\n",
            "Epoch 4/100\n",
            "94/94 - 0s - loss: 0.0158\n",
            "Epoch 5/100\n",
            "94/94 - 0s - loss: 0.0148\n",
            "Epoch 6/100\n",
            "94/94 - 0s - loss: 0.0139\n",
            "Epoch 7/100\n",
            "94/94 - 0s - loss: 0.0130\n",
            "Epoch 8/100\n",
            "94/94 - 0s - loss: 0.0121\n",
            "Epoch 9/100\n",
            "94/94 - 0s - loss: 0.0112\n",
            "Epoch 10/100\n",
            "94/94 - 0s - loss: 0.0105\n",
            "Epoch 11/100\n",
            "94/94 - 0s - loss: 0.0096\n",
            "Epoch 12/100\n",
            "94/94 - 0s - loss: 0.0088\n",
            "Epoch 13/100\n",
            "94/94 - 0s - loss: 0.0080\n",
            "Epoch 14/100\n",
            "94/94 - 0s - loss: 0.0072\n",
            "Epoch 15/100\n",
            "94/94 - 0s - loss: 0.0064\n",
            "Epoch 16/100\n",
            "94/94 - 0s - loss: 0.0057\n",
            "Epoch 17/100\n",
            "94/94 - 0s - loss: 0.0050\n",
            "Epoch 18/100\n",
            "94/94 - 0s - loss: 0.0045\n",
            "Epoch 19/100\n",
            "94/94 - 0s - loss: 0.0039\n",
            "Epoch 20/100\n",
            "94/94 - 0s - loss: 0.0035\n",
            "Epoch 21/100\n",
            "94/94 - 0s - loss: 0.0031\n",
            "Epoch 22/100\n",
            "94/94 - 0s - loss: 0.0028\n",
            "Epoch 23/100\n",
            "94/94 - 0s - loss: 0.0026\n",
            "Epoch 24/100\n",
            "94/94 - 0s - loss: 0.0023\n",
            "Epoch 25/100\n",
            "94/94 - 0s - loss: 0.0022\n",
            "Epoch 26/100\n",
            "94/94 - 0s - loss: 0.0021\n",
            "Epoch 27/100\n",
            "94/94 - 0s - loss: 0.0021\n",
            "Epoch 28/100\n",
            "94/94 - 0s - loss: 0.0020\n",
            "Epoch 29/100\n",
            "94/94 - 0s - loss: 0.0021\n",
            "Epoch 30/100\n",
            "94/94 - 0s - loss: 0.0019\n",
            "Epoch 31/100\n",
            "94/94 - 0s - loss: 0.0020\n",
            "Epoch 32/100\n",
            "94/94 - 0s - loss: 0.0020\n",
            "Epoch 33/100\n",
            "94/94 - 0s - loss: 0.0020\n",
            "Epoch 34/100\n",
            "94/94 - 0s - loss: 0.0020\n",
            "Epoch 35/100\n",
            "94/94 - 0s - loss: 0.0019\n",
            "Epoch 36/100\n",
            "94/94 - 0s - loss: 0.0020\n",
            "Epoch 37/100\n",
            "94/94 - 0s - loss: 0.0019\n",
            "Epoch 38/100\n",
            "94/94 - 0s - loss: 0.0019\n",
            "Epoch 39/100\n",
            "94/94 - 0s - loss: 0.0020\n",
            "Epoch 40/100\n",
            "94/94 - 0s - loss: 0.0020\n",
            "Epoch 41/100\n",
            "94/94 - 0s - loss: 0.0020\n",
            "Epoch 42/100\n",
            "94/94 - 0s - loss: 0.0020\n",
            "Epoch 43/100\n",
            "94/94 - 0s - loss: 0.0019\n",
            "Epoch 44/100\n",
            "94/94 - 0s - loss: 0.0020\n",
            "Epoch 45/100\n",
            "94/94 - 0s - loss: 0.0020\n",
            "Epoch 46/100\n",
            "94/94 - 0s - loss: 0.0019\n",
            "Epoch 47/100\n",
            "94/94 - 0s - loss: 0.0020\n",
            "Epoch 48/100\n",
            "94/94 - 0s - loss: 0.0019\n",
            "Epoch 49/100\n",
            "94/94 - 0s - loss: 0.0020\n",
            "Epoch 50/100\n",
            "94/94 - 0s - loss: 0.0020\n",
            "Epoch 51/100\n",
            "94/94 - 0s - loss: 0.0020\n",
            "Epoch 52/100\n",
            "94/94 - 0s - loss: 0.0019\n",
            "Epoch 53/100\n",
            "94/94 - 0s - loss: 0.0021\n",
            "Epoch 54/100\n",
            "94/94 - 0s - loss: 0.0020\n",
            "Epoch 55/100\n",
            "94/94 - 0s - loss: 0.0020\n",
            "Epoch 56/100\n",
            "94/94 - 0s - loss: 0.0019\n",
            "Epoch 57/100\n",
            "94/94 - 0s - loss: 0.0020\n",
            "Epoch 58/100\n",
            "94/94 - 0s - loss: 0.0020\n",
            "Epoch 59/100\n",
            "94/94 - 0s - loss: 0.0020\n",
            "Epoch 60/100\n",
            "94/94 - 0s - loss: 0.0020\n",
            "Epoch 61/100\n",
            "94/94 - 0s - loss: 0.0020\n",
            "Epoch 62/100\n",
            "94/94 - 0s - loss: 0.0019\n",
            "Epoch 63/100\n",
            "94/94 - 0s - loss: 0.0020\n",
            "Epoch 64/100\n",
            "94/94 - 0s - loss: 0.0020\n",
            "Epoch 65/100\n",
            "94/94 - 0s - loss: 0.0020\n",
            "Epoch 66/100\n",
            "94/94 - 0s - loss: 0.0020\n",
            "Epoch 67/100\n",
            "94/94 - 0s - loss: 0.0020\n",
            "Epoch 68/100\n",
            "94/94 - 0s - loss: 0.0019\n",
            "Epoch 69/100\n",
            "94/94 - 0s - loss: 0.0020\n",
            "Epoch 70/100\n",
            "94/94 - 0s - loss: 0.0020\n",
            "Epoch 71/100\n",
            "94/94 - 0s - loss: 0.0019\n",
            "Epoch 72/100\n",
            "94/94 - 0s - loss: 0.0019\n",
            "Epoch 73/100\n",
            "94/94 - 0s - loss: 0.0019\n",
            "Epoch 74/100\n",
            "94/94 - 0s - loss: 0.0020\n",
            "Epoch 75/100\n",
            "94/94 - 0s - loss: 0.0020\n",
            "Epoch 76/100\n",
            "94/94 - 0s - loss: 0.0019\n",
            "Epoch 77/100\n",
            "94/94 - 0s - loss: 0.0020\n",
            "Epoch 78/100\n",
            "94/94 - 0s - loss: 0.0020\n",
            "Epoch 79/100\n",
            "94/94 - 0s - loss: 0.0020\n",
            "Epoch 80/100\n",
            "94/94 - 0s - loss: 0.0020\n",
            "Epoch 81/100\n",
            "94/94 - 0s - loss: 0.0020\n",
            "Epoch 82/100\n",
            "94/94 - 0s - loss: 0.0019\n",
            "Epoch 83/100\n",
            "94/94 - 0s - loss: 0.0020\n",
            "Epoch 84/100\n",
            "94/94 - 0s - loss: 0.0019\n",
            "Epoch 85/100\n",
            "94/94 - 0s - loss: 0.0020\n",
            "Epoch 86/100\n",
            "94/94 - 0s - loss: 0.0020\n",
            "Epoch 87/100\n",
            "94/94 - 0s - loss: 0.0019\n",
            "Epoch 88/100\n",
            "94/94 - 0s - loss: 0.0019\n",
            "Epoch 89/100\n",
            "94/94 - 0s - loss: 0.0020\n",
            "Epoch 90/100\n",
            "94/94 - 0s - loss: 0.0020\n",
            "Epoch 91/100\n",
            "94/94 - 0s - loss: 0.0020\n",
            "Epoch 92/100\n",
            "94/94 - 0s - loss: 0.0020\n",
            "Epoch 93/100\n",
            "94/94 - 0s - loss: 0.0020\n",
            "Epoch 94/100\n",
            "94/94 - 0s - loss: 0.0020\n",
            "Epoch 95/100\n",
            "94/94 - 0s - loss: 0.0020\n",
            "Epoch 96/100\n",
            "94/94 - 0s - loss: 0.0020\n",
            "Epoch 97/100\n",
            "94/94 - 0s - loss: 0.0020\n",
            "Epoch 98/100\n",
            "94/94 - 0s - loss: 0.0019\n",
            "Epoch 99/100\n",
            "94/94 - 0s - loss: 0.0020\n",
            "Epoch 100/100\n",
            "94/94 - 0s - loss: 0.0019\n"
          ],
          "name": "stdout"
        },
        {
          "output_type": "execute_result",
          "data": {
            "text/plain": [
              "<tensorflow.python.keras.callbacks.History at 0x7f82e2085910>"
            ]
          },
          "metadata": {
            "tags": []
          },
          "execution_count": 22
        }
      ]
    },
    {
      "cell_type": "code",
      "metadata": {
        "id": "-GodoEPphvMG"
      },
      "source": [
        "# make predictions\n",
        "trainPredict = model.predict(trainX)\n",
        "testPredict = model.predict(testX)"
      ],
      "execution_count": null,
      "outputs": []
    },
    {
      "cell_type": "code",
      "metadata": {
        "colab": {
          "base_uri": "https://localhost:8080/"
        },
        "id": "8rjP1k8ThydB",
        "outputId": "186b1d44-884a-4a07-886d-1d4749e4e59c"
      },
      "source": [
        "# invert predictions\n",
        "trainPredict = scaler.inverse_transform(trainPredict)\n",
        "trainY = scaler.inverse_transform([trainY])\n",
        "testPredict = scaler.inverse_transform(testPredict)\n",
        "testY = scaler.inverse_transform([testY])\n",
        "# calculate root mean squared error\n",
        "trainScore = math.sqrt(mean_squared_error(trainY[0], trainPredict[:,0]))\n",
        "print('Train Score: %.2f RMSE' % (trainScore))\n",
        "testScore = math.sqrt(mean_squared_error(testY[0], testPredict[:,0]))\n",
        "print('Test Score: %.2f RMSE' % (testScore))"
      ],
      "execution_count": null,
      "outputs": [
        {
          "output_type": "stream",
          "text": [
            "Train Score: 22.61 RMSE\n",
            "Test Score: 54.75 RMSE\n"
          ],
          "name": "stdout"
        }
      ]
    },
    {
      "cell_type": "code",
      "metadata": {
        "colab": {
          "base_uri": "https://localhost:8080/",
          "height": 265
        },
        "id": "onhzev5zh3RW",
        "outputId": "da7ee451-2325-4d68-857d-bf4100870b1b"
      },
      "source": [
        "# shift train predictions for plotting\n",
        "trainPredictPlot = numpy.empty_like(dataset)\n",
        "trainPredictPlot[:, :] = numpy.nan\n",
        "trainPredictPlot[look_back:len(trainPredict)+look_back, :] = trainPredict\n",
        "# shift test predictions for plotting\n",
        "testPredictPlot = numpy.empty_like(dataset)\n",
        "testPredictPlot[:, :] = numpy.nan\n",
        "testPredictPlot[len(trainPredict)+(look_back*2)+1:len(dataset)-1, :] = testPredict\n",
        "# plot baseline and predictions\n",
        "plt.plot(scaler.inverse_transform(dataset))\n",
        "plt.plot(trainPredictPlot)\n",
        "plt.plot(testPredictPlot)\n",
        "plt.show()"
      ],
      "execution_count": null,
      "outputs": [
        {
          "output_type": "display_data",
          "data": {
            "image/png": "[encoded data removed]",
            "text/plain": [
              "<Figure size 432x288 with 1 Axes>"
            ]
          },
          "metadata": {
            "tags": [],
            "needs_background": "light"
          }
        }
      ]
    },
    {
      "cell_type": "markdown",
      "metadata": {
        "id": "j_nOHEAtt_kU"
      },
      "source": [
        "# **LSTM for Regression Using the Window Method**"
      ]
    },
    {
      "cell_type": "code",
      "metadata": {
        "id": "6qZ5WF-ut56x"
      },
      "source": [
        "#creating dataset for window method\n",
        "dataframe = pandas.read_csv('airline-passengers.csv', usecols=[1], engine='python')\n",
        "dataset = dataframe.values\n",
        "dataset = dataset.astype('float32')\n",
        "# normalize the dataset\n",
        "scaler = MinMaxScaler(feature_range=(0, 1))\n",
        "dataset = scaler.fit_transform(dataset)\n",
        "# split into train and test sets\n",
        "train_size = int(len(dataset) * 0.67)\n",
        "test_size = len(dataset) - train_size\n",
        "train, test = dataset[0:train_size,:], dataset[train_size:len(dataset),:]\n",
        "# reshape into X=t and Y=t+1\n",
        "look_back = 3\n",
        "trainX, trainY = create_dataset(train, look_back)\n",
        "testX, testY = create_dataset(test, look_back)\n",
        "# reshape input to be [samples, time steps, features]\n",
        "trainX = numpy.reshape(trainX, (trainX.shape[0], 1, trainX.shape[1]))\n",
        "testX = numpy.reshape(testX, (testX.shape[0], 1, testX.shape[1]))"
      ],
      "execution_count": null,
      "outputs": []
    },
    {
      "cell_type": "code",
      "metadata": {
        "colab": {
          "base_uri": "https://localhost:8080/"
        },
        "collapsed": true,
        "id": "F0OlkGqqvEvO",
        "outputId": "d54e12d5-f0ec-4813-fcf8-ad74189a6640"
      },
      "source": [
        "# create and fit the LSTM network\n",
        "model = Sequential()\n",
        "model.add(LSTM(4, input_shape=(1, look_back)))\n",
        "model.add(Dense(1))\n",
        "model.compile(loss='mean_squared_error', optimizer='adam')\n",
        "model.fit(trainX, trainY, epochs=100, batch_size=1, verbose=2)"
      ],
      "execution_count": null,
      "outputs": [
        {
          "output_type": "stream",
          "text": [
            "Epoch 1/100\n",
            "92/92 - 1s - loss: 0.0616\n",
            "Epoch 2/100\n",
            "92/92 - 0s - loss: 0.0304\n",
            "Epoch 3/100\n",
            "92/92 - 0s - loss: 0.0199\n",
            "Epoch 4/100\n",
            "92/92 - 0s - loss: 0.0160\n",
            "Epoch 5/100\n",
            "92/92 - 0s - loss: 0.0143\n",
            "Epoch 6/100\n",
            "92/92 - 0s - loss: 0.0128\n",
            "Epoch 7/100\n",
            "92/92 - 0s - loss: 0.0113\n",
            "Epoch 8/100\n",
            "92/92 - 0s - loss: 0.0098\n",
            "Epoch 9/100\n",
            "92/92 - 0s - loss: 0.0084\n",
            "Epoch 10/100\n",
            "92/92 - 0s - loss: 0.0072\n",
            "Epoch 11/100\n",
            "92/92 - 0s - loss: 0.0062\n",
            "Epoch 12/100\n",
            "92/92 - 0s - loss: 0.0054\n",
            "Epoch 13/100\n",
            "92/92 - 0s - loss: 0.0049\n",
            "Epoch 14/100\n",
            "92/92 - 0s - loss: 0.0045\n",
            "Epoch 15/100\n",
            "92/92 - 0s - loss: 0.0043\n",
            "Epoch 16/100\n",
            "92/92 - 0s - loss: 0.0040\n",
            "Epoch 17/100\n",
            "92/92 - 0s - loss: 0.0039\n",
            "Epoch 18/100\n",
            "92/92 - 0s - loss: 0.0039\n",
            "Epoch 19/100\n",
            "92/92 - 0s - loss: 0.0038\n",
            "Epoch 20/100\n",
            "92/92 - 0s - loss: 0.0038\n",
            "Epoch 21/100\n",
            "92/92 - 0s - loss: 0.0037\n",
            "Epoch 22/100\n",
            "92/92 - 0s - loss: 0.0036\n",
            "Epoch 23/100\n",
            "92/92 - 0s - loss: 0.0037\n",
            "Epoch 24/100\n",
            "92/92 - 0s - loss: 0.0036\n",
            "Epoch 25/100\n",
            "92/92 - 0s - loss: 0.0036\n",
            "Epoch 26/100\n",
            "92/92 - 0s - loss: 0.0035\n",
            "Epoch 27/100\n",
            "92/92 - 0s - loss: 0.0034\n",
            "Epoch 28/100\n",
            "92/92 - 0s - loss: 0.0035\n",
            "Epoch 29/100\n",
            "92/92 - 0s - loss: 0.0034\n",
            "Epoch 30/100\n",
            "92/92 - 0s - loss: 0.0034\n",
            "Epoch 31/100\n",
            "92/92 - 0s - loss: 0.0033\n",
            "Epoch 32/100\n",
            "92/92 - 0s - loss: 0.0034\n",
            "Epoch 33/100\n",
            "92/92 - 0s - loss: 0.0034\n",
            "Epoch 34/100\n",
            "92/92 - 0s - loss: 0.0033\n",
            "Epoch 35/100\n",
            "92/92 - 0s - loss: 0.0033\n",
            "Epoch 36/100\n",
            "92/92 - 0s - loss: 0.0033\n",
            "Epoch 37/100\n",
            "92/92 - 0s - loss: 0.0032\n",
            "Epoch 38/100\n",
            "92/92 - 0s - loss: 0.0032\n",
            "Epoch 39/100\n",
            "92/92 - 0s - loss: 0.0032\n",
            "Epoch 40/100\n",
            "92/92 - 0s - loss: 0.0032\n",
            "Epoch 41/100\n",
            "92/92 - 0s - loss: 0.0031\n",
            "Epoch 42/100\n",
            "92/92 - 0s - loss: 0.0031\n",
            "Epoch 43/100\n",
            "92/92 - 0s - loss: 0.0030\n",
            "Epoch 44/100\n",
            "92/92 - 0s - loss: 0.0031\n",
            "Epoch 45/100\n",
            "92/92 - 0s - loss: 0.0031\n",
            "Epoch 46/100\n",
            "92/92 - 0s - loss: 0.0030\n",
            "Epoch 47/100\n",
            "92/92 - 0s - loss: 0.0031\n",
            "Epoch 48/100\n",
            "92/92 - 0s - loss: 0.0029\n",
            "Epoch 49/100\n",
            "92/92 - 0s - loss: 0.0030\n",
            "Epoch 50/100\n",
            "92/92 - 0s - loss: 0.0029\n",
            "Epoch 51/100\n",
            "92/92 - 0s - loss: 0.0029\n",
            "Epoch 52/100\n",
            "92/92 - 0s - loss: 0.0029\n",
            "Epoch 53/100\n",
            "92/92 - 0s - loss: 0.0029\n",
            "Epoch 54/100\n",
            "92/92 - 0s - loss: 0.0028\n",
            "Epoch 55/100\n",
            "92/92 - 0s - loss: 0.0028\n",
            "Epoch 56/100\n",
            "92/92 - 0s - loss: 0.0028\n",
            "Epoch 57/100\n",
            "92/92 - 0s - loss: 0.0028\n",
            "Epoch 58/100\n",
            "92/92 - 0s - loss: 0.0028\n",
            "Epoch 59/100\n",
            "92/92 - 0s - loss: 0.0027\n",
            "Epoch 60/100\n",
            "92/92 - 0s - loss: 0.0027\n",
            "Epoch 61/100\n",
            "92/92 - 0s - loss: 0.0027\n",
            "Epoch 62/100\n",
            "92/92 - 0s - loss: 0.0027\n",
            "Epoch 63/100\n",
            "92/92 - 0s - loss: 0.0027\n",
            "Epoch 64/100\n",
            "92/92 - 0s - loss: 0.0026\n",
            "Epoch 65/100\n",
            "92/92 - 0s - loss: 0.0027\n",
            "Epoch 66/100\n",
            "92/92 - 0s - loss: 0.0026\n",
            "Epoch 67/100\n",
            "92/92 - 0s - loss: 0.0027\n",
            "Epoch 68/100\n",
            "92/92 - 0s - loss: 0.0026\n",
            "Epoch 69/100\n",
            "92/92 - 0s - loss: 0.0026\n",
            "Epoch 70/100\n",
            "92/92 - 0s - loss: 0.0024\n",
            "Epoch 71/100\n",
            "92/92 - 0s - loss: 0.0026\n",
            "Epoch 72/100\n",
            "92/92 - 0s - loss: 0.0026\n",
            "Epoch 73/100\n",
            "92/92 - 0s - loss: 0.0025\n",
            "Epoch 74/100\n",
            "92/92 - 0s - loss: 0.0025\n",
            "Epoch 75/100\n",
            "92/92 - 0s - loss: 0.0024\n",
            "Epoch 76/100\n",
            "92/92 - 0s - loss: 0.0025\n",
            "Epoch 77/100\n",
            "92/92 - 0s - loss: 0.0024\n",
            "Epoch 78/100\n",
            "92/92 - 0s - loss: 0.0025\n",
            "Epoch 79/100\n",
            "92/92 - 0s - loss: 0.0024\n",
            "Epoch 80/100\n",
            "92/92 - 0s - loss: 0.0024\n",
            "Epoch 81/100\n",
            "92/92 - 0s - loss: 0.0025\n",
            "Epoch 82/100\n",
            "92/92 - 0s - loss: 0.0026\n",
            "Epoch 83/100\n",
            "92/92 - 0s - loss: 0.0024\n",
            "Epoch 84/100\n",
            "92/92 - 0s - loss: 0.0023\n",
            "Epoch 85/100\n",
            "92/92 - 0s - loss: 0.0024\n",
            "Epoch 86/100\n",
            "92/92 - 0s - loss: 0.0023\n",
            "Epoch 87/100\n",
            "92/92 - 0s - loss: 0.0023\n",
            "Epoch 88/100\n",
            "92/92 - 0s - loss: 0.0023\n",
            "Epoch 89/100\n",
            "92/92 - 0s - loss: 0.0024\n",
            "Epoch 90/100\n",
            "92/92 - 0s - loss: 0.0023\n",
            "Epoch 91/100\n",
            "92/92 - 0s - loss: 0.0023\n",
            "Epoch 92/100\n",
            "92/92 - 0s - loss: 0.0023\n",
            "Epoch 93/100\n",
            "92/92 - 0s - loss: 0.0022\n",
            "Epoch 94/100\n",
            "92/92 - 0s - loss: 0.0023\n",
            "Epoch 95/100\n",
            "92/92 - 0s - loss: 0.0023\n",
            "Epoch 96/100\n",
            "92/92 - 0s - loss: 0.0022\n",
            "Epoch 97/100\n",
            "92/92 - 0s - loss: 0.0023\n",
            "Epoch 98/100\n",
            "92/92 - 0s - loss: 0.0022\n",
            "Epoch 99/100\n",
            "92/92 - 0s - loss: 0.0022\n",
            "Epoch 100/100\n",
            "92/92 - 0s - loss: 0.0022\n"
          ],
          "name": "stdout"
        },
        {
          "output_type": "execute_result",
          "data": {
            "text/plain": [
              "<tensorflow.python.keras.callbacks.History at 0x7f82deb0ef50>"
            ]
          },
          "metadata": {
            "tags": []
          },
          "execution_count": 29
        }
      ]
    },
    {
      "cell_type": "code",
      "metadata": {
        "id": "0QEEoypQvIfS"
      },
      "source": [
        "# make predictions\n",
        "trainPredict = model.predict(trainX)\n",
        "testPredict = model.predict(testX)"
      ],
      "execution_count": null,
      "outputs": []
    },
    {
      "cell_type": "code",
      "metadata": {
        "colab": {
          "base_uri": "https://localhost:8080/"
        },
        "id": "kato-pN7vL2r",
        "outputId": "7304eada-7711-42d9-e2a1-7370d47c24a2"
      },
      "source": [
        "# invert predictions\n",
        "trainPredict = scaler.inverse_transform(trainPredict)\n",
        "trainY = scaler.inverse_transform([trainY])\n",
        "testPredict = scaler.inverse_transform(testPredict)\n",
        "testY = scaler.inverse_transform([testY])\n",
        "# calculate root mean squared error\n",
        "trainScore = math.sqrt(mean_squared_error(trainY[0], trainPredict[:,0]))\n",
        "print('Train Score: %.2f RMSE' % (trainScore))\n",
        "testScore = math.sqrt(mean_squared_error(testY[0], testPredict[:,0]))\n",
        "print('Test Score: %.2f RMSE' % (testScore))"
      ],
      "execution_count": null,
      "outputs": [
        {
          "output_type": "stream",
          "text": [
            "Train Score: 23.96 RMSE\n",
            "Test Score: 63.46 RMSE\n"
          ],
          "name": "stdout"
        }
      ]
    },
    {
      "cell_type": "code",
      "metadata": {
        "colab": {
          "base_uri": "https://localhost:8080/",
          "height": 265
        },
        "id": "tIb21x_PvQo8",
        "outputId": "97132f36-0692-4cc4-c269-efaa9c15b28a"
      },
      "source": [
        "# shift train predictions for plotting\n",
        "trainPredictPlot = numpy.empty_like(dataset)\n",
        "trainPredictPlot[:, :] = numpy.nan\n",
        "trainPredictPlot[look_back:len(trainPredict)+look_back, :] = trainPredict\n",
        "# shift test predictions for plotting\n",
        "testPredictPlot = numpy.empty_like(dataset)\n",
        "testPredictPlot[:, :] = numpy.nan\n",
        "testPredictPlot[len(trainPredict)+(look_back*2)+1:len(dataset)-1, :] = testPredict\n",
        "# plot baseline and predictions\n",
        "plt.plot(scaler.inverse_transform(dataset))\n",
        "plt.plot(trainPredictPlot)\n",
        "plt.plot(testPredictPlot)\n",
        "plt.show()\n",
        "\n",
        "\n",
        "\n",
        "\n",
        "\n",
        "\n",
        "\n",
        "\n",
        "\n"
      ],
      "execution_count": null,
      "outputs": [
        {
          "output_type": "display_data",
          "data": {
            "image/png": "[encoded data removed]",
            "text/plain": [
              "<Figure size 432x288 with 1 Axes>"
            ]
          },
          "metadata": {
            "tags": [],
            "needs_background": "light"
          }
        }
      ]
    },
    {
      "cell_type": "markdown",
      "metadata": {
        "id": "93j9W9fYxn8x"
      },
      "source": [
        "# **LSTM for Regression with Time Steps**"
      ]
    },
    {
      "cell_type": "code",
      "metadata": {
        "id": "BwG6lzX1xqam"
      },
      "source": [
        "# split into train and test sets\n",
        "train_size = int(len(dataset) * 0.67)\n",
        "test_size = len(dataset) - train_size\n",
        "train, test = dataset[0:train_size,:], dataset[train_size:len(dataset),:]\n",
        "# reshape into X=t and Y=t+1\n",
        "look_back = 3\n",
        "trainX, trainY = create_dataset(train, look_back)\n",
        "testX, testY = create_dataset(test, look_back)\n",
        "# reshape input to be [samples, time steps, features]\n",
        "trainX = numpy.reshape(trainX, (trainX.shape[0], trainX.shape[1], 1))\n",
        "testX = numpy.reshape(testX, (testX.shape[0], testX.shape[1], 1))"
      ],
      "execution_count": null,
      "outputs": []
    },
    {
      "cell_type": "code",
      "metadata": {
        "colab": {
          "base_uri": "https://localhost:8080/"
        },
        "collapsed": true,
        "id": "iagy4ktQx5Vt",
        "outputId": "c657e97c-64c3-48a8-a20d-47e449bdb2dc"
      },
      "source": [
        "# create and fit the LSTM network\n",
        "model = Sequential()\n",
        "model.add(LSTM(4, input_shape=(look_back, 1)))\n",
        "model.add(Dense(1))\n",
        "model.compile(loss='mean_squared_error', optimizer='adam')\n",
        "model.fit(trainX, trainY, epochs=100, batch_size=1, verbose=2)"
      ],
      "execution_count": null,
      "outputs": [
        {
          "output_type": "stream",
          "text": [
            "Epoch 1/100\n",
            "92/92 - 1s - loss: 0.0460\n",
            "Epoch 2/100\n",
            "92/92 - 0s - loss: 0.0187\n",
            "Epoch 3/100\n",
            "92/92 - 0s - loss: 0.0146\n",
            "Epoch 4/100\n",
            "92/92 - 0s - loss: 0.0128\n",
            "Epoch 5/100\n",
            "92/92 - 0s - loss: 0.0113\n",
            "Epoch 6/100\n",
            "92/92 - 0s - loss: 0.0100\n",
            "Epoch 7/100\n",
            "92/92 - 0s - loss: 0.0086\n",
            "Epoch 8/100\n",
            "92/92 - 0s - loss: 0.0075\n",
            "Epoch 9/100\n",
            "92/92 - 0s - loss: 0.0065\n",
            "Epoch 10/100\n",
            "92/92 - 0s - loss: 0.0057\n",
            "Epoch 11/100\n",
            "92/92 - 0s - loss: 0.0051\n",
            "Epoch 12/100\n",
            "92/92 - 0s - loss: 0.0050\n",
            "Epoch 13/100\n",
            "92/92 - 0s - loss: 0.0045\n",
            "Epoch 14/100\n",
            "92/92 - 0s - loss: 0.0043\n",
            "Epoch 15/100\n",
            "92/92 - 0s - loss: 0.0043\n",
            "Epoch 16/100\n",
            "92/92 - 0s - loss: 0.0043\n",
            "Epoch 17/100\n",
            "92/92 - 0s - loss: 0.0042\n",
            "Epoch 18/100\n",
            "92/92 - 0s - loss: 0.0041\n",
            "Epoch 19/100\n",
            "92/92 - 0s - loss: 0.0040\n",
            "Epoch 20/100\n",
            "92/92 - 0s - loss: 0.0042\n",
            "Epoch 21/100\n",
            "92/92 - 0s - loss: 0.0040\n",
            "Epoch 22/100\n",
            "92/92 - 0s - loss: 0.0039\n",
            "Epoch 23/100\n",
            "92/92 - 0s - loss: 0.0040\n",
            "Epoch 24/100\n",
            "92/92 - 0s - loss: 0.0039\n",
            "Epoch 25/100\n",
            "92/92 - 0s - loss: 0.0039\n",
            "Epoch 26/100\n",
            "92/92 - 0s - loss: 0.0039\n",
            "Epoch 27/100\n",
            "92/92 - 0s - loss: 0.0039\n",
            "Epoch 28/100\n",
            "92/92 - 0s - loss: 0.0039\n",
            "Epoch 29/100\n",
            "92/92 - 0s - loss: 0.0038\n",
            "Epoch 30/100\n",
            "92/92 - 0s - loss: 0.0037\n",
            "Epoch 31/100\n",
            "92/92 - 0s - loss: 0.0039\n",
            "Epoch 32/100\n",
            "92/92 - 0s - loss: 0.0039\n",
            "Epoch 33/100\n",
            "92/92 - 0s - loss: 0.0039\n",
            "Epoch 34/100\n",
            "92/92 - 0s - loss: 0.0038\n",
            "Epoch 35/100\n",
            "92/92 - 0s - loss: 0.0038\n",
            "Epoch 36/100\n",
            "92/92 - 0s - loss: 0.0038\n",
            "Epoch 37/100\n",
            "92/92 - 0s - loss: 0.0037\n",
            "Epoch 38/100\n",
            "92/92 - 0s - loss: 0.0037\n",
            "Epoch 39/100\n",
            "92/92 - 0s - loss: 0.0037\n",
            "Epoch 40/100\n",
            "92/92 - 0s - loss: 0.0037\n",
            "Epoch 41/100\n",
            "92/92 - 0s - loss: 0.0037\n",
            "Epoch 42/100\n",
            "92/92 - 0s - loss: 0.0038\n",
            "Epoch 43/100\n",
            "92/92 - 0s - loss: 0.0036\n",
            "Epoch 44/100\n",
            "92/92 - 0s - loss: 0.0036\n",
            "Epoch 45/100\n",
            "92/92 - 0s - loss: 0.0037\n",
            "Epoch 46/100\n",
            "92/92 - 0s - loss: 0.0036\n",
            "Epoch 47/100\n",
            "92/92 - 0s - loss: 0.0036\n",
            "Epoch 48/100\n",
            "92/92 - 0s - loss: 0.0036\n",
            "Epoch 49/100\n",
            "92/92 - 0s - loss: 0.0037\n",
            "Epoch 50/100\n",
            "92/92 - 0s - loss: 0.0038\n",
            "Epoch 51/100\n",
            "92/92 - 0s - loss: 0.0036\n",
            "Epoch 52/100\n",
            "92/92 - 0s - loss: 0.0035\n",
            "Epoch 53/100\n",
            "92/92 - 0s - loss: 0.0035\n",
            "Epoch 54/100\n",
            "92/92 - 0s - loss: 0.0036\n",
            "Epoch 55/100\n",
            "92/92 - 0s - loss: 0.0035\n",
            "Epoch 56/100\n",
            "92/92 - 0s - loss: 0.0035\n",
            "Epoch 57/100\n",
            "92/92 - 0s - loss: 0.0035\n",
            "Epoch 58/100\n",
            "92/92 - 0s - loss: 0.0035\n",
            "Epoch 59/100\n",
            "92/92 - 0s - loss: 0.0034\n",
            "Epoch 60/100\n",
            "92/92 - 0s - loss: 0.0034\n",
            "Epoch 61/100\n",
            "92/92 - 0s - loss: 0.0035\n",
            "Epoch 62/100\n",
            "92/92 - 0s - loss: 0.0034\n",
            "Epoch 63/100\n",
            "92/92 - 0s - loss: 0.0034\n",
            "Epoch 64/100\n",
            "92/92 - 0s - loss: 0.0034\n",
            "Epoch 65/100\n",
            "92/92 - 0s - loss: 0.0034\n",
            "Epoch 66/100\n",
            "92/92 - 0s - loss: 0.0034\n",
            "Epoch 67/100\n",
            "92/92 - 0s - loss: 0.0034\n",
            "Epoch 68/100\n",
            "92/92 - 0s - loss: 0.0034\n",
            "Epoch 69/100\n",
            "92/92 - 0s - loss: 0.0033\n",
            "Epoch 70/100\n",
            "92/92 - 0s - loss: 0.0034\n",
            "Epoch 71/100\n",
            "92/92 - 0s - loss: 0.0032\n",
            "Epoch 72/100\n",
            "92/92 - 0s - loss: 0.0033\n",
            "Epoch 73/100\n",
            "92/92 - 0s - loss: 0.0034\n",
            "Epoch 74/100\n",
            "92/92 - 0s - loss: 0.0032\n",
            "Epoch 75/100\n",
            "92/92 - 0s - loss: 0.0032\n",
            "Epoch 76/100\n",
            "92/92 - 0s - loss: 0.0033\n",
            "Epoch 77/100\n",
            "92/92 - 0s - loss: 0.0032\n",
            "Epoch 78/100\n",
            "92/92 - 0s - loss: 0.0032\n",
            "Epoch 79/100\n",
            "92/92 - 0s - loss: 0.0033\n",
            "Epoch 80/100\n",
            "92/92 - 0s - loss: 0.0032\n",
            "Epoch 81/100\n",
            "92/92 - 0s - loss: 0.0032\n",
            "Epoch 82/100\n",
            "92/92 - 0s - loss: 0.0033\n",
            "Epoch 83/100\n",
            "92/92 - 0s - loss: 0.0032\n",
            "Epoch 84/100\n",
            "92/92 - 0s - loss: 0.0031\n",
            "Epoch 85/100\n",
            "92/92 - 0s - loss: 0.0031\n",
            "Epoch 86/100\n",
            "92/92 - 0s - loss: 0.0032\n",
            "Epoch 87/100\n",
            "92/92 - 0s - loss: 0.0033\n",
            "Epoch 88/100\n",
            "92/92 - 0s - loss: 0.0030\n",
            "Epoch 89/100\n",
            "92/92 - 0s - loss: 0.0031\n",
            "Epoch 90/100\n",
            "92/92 - 0s - loss: 0.0030\n",
            "Epoch 91/100\n",
            "92/92 - 0s - loss: 0.0030\n",
            "Epoch 92/100\n",
            "92/92 - 0s - loss: 0.0031\n",
            "Epoch 93/100\n",
            "92/92 - 0s - loss: 0.0030\n",
            "Epoch 94/100\n",
            "92/92 - 0s - loss: 0.0029\n",
            "Epoch 95/100\n",
            "92/92 - 0s - loss: 0.0030\n",
            "Epoch 96/100\n",
            "92/92 - 0s - loss: 0.0030\n",
            "Epoch 97/100\n",
            "92/92 - 0s - loss: 0.0029\n",
            "Epoch 98/100\n",
            "92/92 - 0s - loss: 0.0029\n",
            "Epoch 99/100\n",
            "92/92 - 0s - loss: 0.0029\n",
            "Epoch 100/100\n",
            "92/92 - 0s - loss: 0.0029\n"
          ],
          "name": "stdout"
        },
        {
          "output_type": "execute_result",
          "data": {
            "text/plain": [
              "<tensorflow.python.keras.callbacks.History at 0x7f82dd448890>"
            ]
          },
          "metadata": {
            "tags": []
          },
          "execution_count": 35
        }
      ]
    },
    {
      "cell_type": "code",
      "metadata": {
        "id": "Cf4PUqtNyC_I"
      },
      "source": [
        "# make predictions\n",
        "trainPredict = model.predict(trainX)\n",
        "testPredict = model.predict(testX)"
      ],
      "execution_count": null,
      "outputs": []
    },
    {
      "cell_type": "code",
      "metadata": {
        "colab": {
          "base_uri": "https://localhost:8080/"
        },
        "id": "GFdomzSEyGbW",
        "outputId": "d83e5d69-8b33-4358-cca6-6fc10fb19ced"
      },
      "source": [
        "# invert predictions\n",
        "trainPredict = scaler.inverse_transform(trainPredict)\n",
        "trainY = scaler.inverse_transform([trainY])\n",
        "testPredict = scaler.inverse_transform(testPredict)\n",
        "testY = scaler.inverse_transform([testY])\n",
        "# calculate root mean squared error\n",
        "trainScore = math.sqrt(mean_squared_error(trainY[0], trainPredict[:,0]))\n",
        "print('Train Score: %.2f RMSE' % (trainScore))\n",
        "testScore = math.sqrt(mean_squared_error(testY[0], testPredict[:,0]))\n",
        "print('Test Score: %.2f RMSE' % (testScore))"
      ],
      "execution_count": null,
      "outputs": [
        {
          "output_type": "stream",
          "text": [
            "Train Score: 27.47 RMSE\n",
            "Test Score: 61.76 RMSE\n"
          ],
          "name": "stdout"
        }
      ]
    },
    {
      "cell_type": "code",
      "metadata": {
        "colab": {
          "base_uri": "https://localhost:8080/",
          "height": 265
        },
        "id": "nJIUgcLsyJ_-",
        "outputId": "773977aa-b230-4ed9-8b31-f4e35c003b26"
      },
      "source": [
        "# shift train predictions for plotting\n",
        "trainPredictPlot = numpy.empty_like(dataset)\n",
        "trainPredictPlot[:, :] = numpy.nan\n",
        "trainPredictPlot[look_back:len(trainPredict)+look_back, :] = trainPredict\n",
        "# shift test predictions for plotting\n",
        "testPredictPlot = numpy.empty_like(dataset)\n",
        "testPredictPlot[:, :] = numpy.nan\n",
        "testPredictPlot[len(trainPredict)+(look_back*2)+1:len(dataset)-1, :] = testPredict\n",
        "# plot baseline and predictions\n",
        "plt.plot(scaler.inverse_transform(dataset))\n",
        "plt.plot(trainPredictPlot)\n",
        "plt.plot(testPredictPlot)\n",
        "plt.show()"
      ],
      "execution_count": null,
      "outputs": [
        {
          "output_type": "display_data",
          "data": {
            "image/png": "[encoded data removed]",
            "text/plain": [
              "<Figure size 432x288 with 1 Axes>"
            ]
          },
          "metadata": {
            "tags": [],
            "needs_background": "light"
          }
        }
      ]
    },
    {
      "cell_type": "markdown",
      "metadata": {
        "id": "IMIBF-pFN6jI"
      },
      "source": [
        "# **LSTM with Memory Between Batches**"
      ]
    },
    {
      "cell_type": "code",
      "metadata": {
        "id": "ZcVBDXTXN_E9"
      },
      "source": [
        "train_size = int(len(dataset) * 0.67)\n",
        "test_size = len(dataset) - train_size\n",
        "train, test = dataset[0:train_size,:], dataset[train_size:len(dataset),:]\n",
        "# reshape into X=t and Y=t+1\n",
        "look_back = 3\n",
        "trainX, trainY = create_dataset(train, look_back)\n",
        "testX, testY = create_dataset(test, look_back)\n",
        "# reshape input to be [samples, time steps, features]\n",
        "trainX = numpy.reshape(trainX, (trainX.shape[0], trainX.shape[1], 1))\n",
        "testX = numpy.reshape(testX, (testX.shape[0], testX.shape[1], 1))"
      ],
      "execution_count": null,
      "outputs": []
    },
    {
      "cell_type": "code",
      "metadata": {
        "colab": {
          "base_uri": "https://localhost:8080/"
        },
        "collapsed": true,
        "id": "_DJEhXKnOM3C",
        "outputId": "b9db2023-e9b8-414a-a78f-86bd5f96a12b"
      },
      "source": [
        "batch_size = 2\n",
        "model = Sequential()\n",
        "model.add(LSTM(4, batch_input_shape=(batch_size, look_back, 1), stateful=True))\n",
        "model.add(Dense(1))\n",
        "model.compile(loss='mean_squared_error', optimizer='adam')\n",
        "for i in range(100):\n",
        "\tmodel.fit(trainX, trainY, epochs=1, batch_size=batch_size, verbose=2, shuffle=False)\n",
        "\tmodel.reset_states()"
      ],
      "execution_count": null,
      "outputs": [
        {
          "output_type": "stream",
          "text": [
            "46/46 - 1s - loss: 0.0483\n",
            "46/46 - 0s - loss: 0.0233\n",
            "46/46 - 0s - loss: 0.0140\n",
            "46/46 - 0s - loss: 0.0123\n",
            "46/46 - 0s - loss: 0.0119\n",
            "46/46 - 0s - loss: 0.0106\n",
            "46/46 - 0s - loss: 0.0089\n",
            "46/46 - 0s - loss: 0.0071\n",
            "46/46 - 0s - loss: 0.0056\n",
            "46/46 - 0s - loss: 0.0048\n",
            "46/46 - 0s - loss: 0.0047\n",
            "46/46 - 0s - loss: 0.0046\n",
            "46/46 - 0s - loss: 0.0046\n",
            "46/46 - 0s - loss: 0.0046\n",
            "46/46 - 0s - loss: 0.0045\n",
            "46/46 - 0s - loss: 0.0045\n",
            "46/46 - 0s - loss: 0.0045\n",
            "46/46 - 0s - loss: 0.0045\n",
            "46/46 - 0s - loss: 0.0045\n",
            "46/46 - 0s - loss: 0.0044\n",
            "46/46 - 0s - loss: 0.0044\n",
            "46/46 - 0s - loss: 0.0044\n",
            "46/46 - 0s - loss: 0.0044\n",
            "46/46 - 0s - loss: 0.0044\n",
            "46/46 - 0s - loss: 0.0044\n",
            "46/46 - 0s - loss: 0.0043\n",
            "46/46 - 0s - loss: 0.0043\n",
            "46/46 - 0s - loss: 0.0043\n",
            "46/46 - 0s - loss: 0.0043\n",
            "46/46 - 0s - loss: 0.0043\n",
            "46/46 - 0s - loss: 0.0043\n",
            "46/46 - 0s - loss: 0.0043\n",
            "46/46 - 0s - loss: 0.0043\n",
            "46/46 - 0s - loss: 0.0042\n",
            "46/46 - 0s - loss: 0.0042\n",
            "46/46 - 0s - loss: 0.0042\n",
            "46/46 - 0s - loss: 0.0042\n",
            "46/46 - 0s - loss: 0.0042\n",
            "46/46 - 0s - loss: 0.0042\n",
            "46/46 - 0s - loss: 0.0042\n",
            "46/46 - 0s - loss: 0.0042\n",
            "46/46 - 0s - loss: 0.0042\n",
            "46/46 - 0s - loss: 0.0041\n",
            "46/46 - 0s - loss: 0.0041\n",
            "46/46 - 0s - loss: 0.0041\n",
            "46/46 - 0s - loss: 0.0041\n",
            "46/46 - 0s - loss: 0.0041\n",
            "46/46 - 0s - loss: 0.0041\n",
            "46/46 - 0s - loss: 0.0041\n",
            "46/46 - 0s - loss: 0.0041\n",
            "46/46 - 0s - loss: 0.0041\n",
            "46/46 - 0s - loss: 0.0041\n",
            "46/46 - 0s - loss: 0.0040\n",
            "46/46 - 0s - loss: 0.0040\n",
            "46/46 - 0s - loss: 0.0040\n",
            "46/46 - 0s - loss: 0.0040\n",
            "46/46 - 0s - loss: 0.0040\n",
            "46/46 - 0s - loss: 0.0040\n",
            "46/46 - 0s - loss: 0.0040\n",
            "46/46 - 0s - loss: 0.0040\n",
            "46/46 - 0s - loss: 0.0040\n",
            "46/46 - 0s - loss: 0.0039\n",
            "46/46 - 0s - loss: 0.0039\n",
            "46/46 - 0s - loss: 0.0039\n",
            "46/46 - 0s - loss: 0.0039\n",
            "46/46 - 0s - loss: 0.0039\n",
            "46/46 - 0s - loss: 0.0039\n",
            "46/46 - 0s - loss: 0.0039\n",
            "46/46 - 0s - loss: 0.0039\n",
            "46/46 - 0s - loss: 0.0039\n",
            "46/46 - 0s - loss: 0.0039\n",
            "46/46 - 0s - loss: 0.0038\n",
            "46/46 - 0s - loss: 0.0038\n",
            "46/46 - 0s - loss: 0.0038\n",
            "46/46 - 0s - loss: 0.0038\n",
            "46/46 - 0s - loss: 0.0038\n",
            "46/46 - 0s - loss: 0.0038\n",
            "46/46 - 0s - loss: 0.0038\n",
            "46/46 - 0s - loss: 0.0037\n",
            "46/46 - 0s - loss: 0.0037\n",
            "46/46 - 0s - loss: 0.0037\n",
            "46/46 - 0s - loss: 0.0037\n",
            "46/46 - 0s - loss: 0.0037\n",
            "46/46 - 0s - loss: 0.0037\n",
            "46/46 - 0s - loss: 0.0037\n",
            "46/46 - 0s - loss: 0.0036\n",
            "46/46 - 0s - loss: 0.0036\n",
            "46/46 - 0s - loss: 0.0036\n",
            "46/46 - 0s - loss: 0.0036\n",
            "46/46 - 0s - loss: 0.0036\n",
            "46/46 - 0s - loss: 0.0035\n",
            "46/46 - 0s - loss: 0.0035\n",
            "46/46 - 0s - loss: 0.0035\n",
            "46/46 - 0s - loss: 0.0035\n",
            "46/46 - 0s - loss: 0.0035\n",
            "46/46 - 0s - loss: 0.0034\n",
            "46/46 - 0s - loss: 0.0034\n",
            "46/46 - 0s - loss: 0.0034\n",
            "46/46 - 0s - loss: 0.0033\n",
            "46/46 - 0s - loss: 0.0033\n"
          ],
          "name": "stdout"
        }
      ]
    },
    {
      "cell_type": "code",
      "metadata": {
        "id": "1bsPN6ENOSR5"
      },
      "source": [
        "# make predictions\n",
        "trainPredict = model.predict(trainX, batch_size=batch_size)\n",
        "model.reset_states()\n",
        "testPredict = model.predict(testX, batch_size=batch_size)"
      ],
      "execution_count": null,
      "outputs": []
    },
    {
      "cell_type": "code",
      "metadata": {
        "colab": {
          "base_uri": "https://localhost:8080/"
        },
        "id": "-yi5LwznOVR1",
        "outputId": "013c88ff-727d-498a-f51f-7a8ac6723e09"
      },
      "source": [
        "# invert predictions\n",
        "trainPredict = scaler.inverse_transform(trainPredict)\n",
        "trainY = scaler.inverse_transform([trainY])\n",
        "testPredict = scaler.inverse_transform(testPredict)\n",
        "testY = scaler.inverse_transform([testY])\n",
        "# calculate root mean squared error\n",
        "trainScore = math.sqrt(mean_squared_error(trainY[0], trainPredict[:,0]))\n",
        "print('Train Score: %.2f RMSE' % (trainScore))\n",
        "testScore = math.sqrt(mean_squared_error(testY[0], testPredict[:,0]))\n",
        "print('Test Score: %.2f RMSE' % (testScore))"
      ],
      "execution_count": null,
      "outputs": [
        {
          "output_type": "stream",
          "text": [
            "Train Score: 29.43 RMSE\n",
            "Test Score: 76.04 RMSE\n"
          ],
          "name": "stdout"
        }
      ]
    },
    {
      "cell_type": "code",
      "metadata": {
        "colab": {
          "base_uri": "https://localhost:8080/",
          "height": 265
        },
        "id": "xhRN-zzyOYJq",
        "outputId": "1fa723cb-cdeb-45a4-e955-194ca761016d"
      },
      "source": [
        "# shift train predictions for plotting\n",
        "trainPredictPlot = numpy.empty_like(dataset)\n",
        "trainPredictPlot[:, :] = numpy.nan\n",
        "trainPredictPlot[look_back:len(trainPredict)+look_back, :] = trainPredict\n",
        "# shift test predictions for plotting\n",
        "testPredictPlot = numpy.empty_like(dataset)\n",
        "testPredictPlot[:, :] = numpy.nan\n",
        "testPredictPlot[len(trainPredict)+(look_back*2)+1:len(dataset)-1, :] = testPredict\n",
        "# plot baseline and predictions\n",
        "plt.plot(scaler.inverse_transform(dataset))\n",
        "plt.plot(trainPredictPlot)\n",
        "plt.plot(testPredictPlot)\n",
        "plt.show()\n",
        "\n",
        "\n",
        "\n",
        "\n",
        "\n"
      ],
      "execution_count": null,
      "outputs": [
        {
          "output_type": "display_data",
          "data": {
            "image/png": "[encoded data removed]",
            "text/plain": [
              "<Figure size 432x288 with 1 Axes>"
            ]
          },
          "metadata": {
            "tags": [],
            "needs_background": "light"
          }
        }
      ]
    },
    {
      "cell_type": "markdown",
      "metadata": {
        "id": "ATWU9rYcQ1VM"
      },
      "source": [
        "# **Stacked LSTMs with Memory Between Batches**"
      ]
    },
    {
      "cell_type": "code",
      "metadata": {
        "id": "SKs1_fJrRBSq"
      },
      "source": [
        "train_size = int(len(dataset) * 0.67)\n",
        "test_size = len(dataset) - train_size\n",
        "train, test = dataset[0:train_size,:], dataset[train_size:len(dataset),:]\n",
        "# reshape into X=t and Y=t+1\n",
        "look_back = 3\n",
        "trainX, trainY = create_dataset(train, look_back)\n",
        "testX, testY = create_dataset(test, look_back)\n",
        "# reshape input to be [samples, time steps, features]\n",
        "trainX = numpy.reshape(trainX, (trainX.shape[0], trainX.shape[1], 1))\n",
        "testX = numpy.reshape(testX, (testX.shape[0], testX.shape[1], 1))"
      ],
      "execution_count": null,
      "outputs": []
    },
    {
      "cell_type": "code",
      "metadata": {
        "colab": {
          "base_uri": "https://localhost:8080/"
        },
        "collapsed": true,
        "id": "UAFSPr41RFBh",
        "outputId": "84ab4356-e059-40b0-874f-8994f4bec239"
      },
      "source": [
        "# create and fit the LSTM network\n",
        "batch_size = 1\n",
        "model = Sequential()\n",
        "model.add(LSTM(4, batch_input_shape=(batch_size, look_back, 1), stateful=True, return_sequences=True))\n",
        "model.add(LSTM(4, batch_input_shape=(batch_size, look_back, 1), stateful=True))\n",
        "model.add(Dense(1))\n",
        "model.compile(loss='mean_squared_error', optimizer='adam')\n",
        "for i in range(100):\n",
        "\tmodel.fit(trainX, trainY, epochs=1, batch_size=batch_size, verbose=2, shuffle=False)\n",
        "\tmodel.reset_states()"
      ],
      "execution_count": null,
      "outputs": [
        {
          "output_type": "stream",
          "text": [
            "92/92 - 2s - loss: 0.0049\n",
            "92/92 - 0s - loss: 0.0111\n",
            "92/92 - 0s - loss: 0.0075\n",
            "92/92 - 0s - loss: 0.0060\n",
            "92/92 - 0s - loss: 0.0056\n",
            "92/92 - 0s - loss: 0.0057\n",
            "92/92 - 0s - loss: 0.0057\n",
            "92/92 - 0s - loss: 0.0057\n",
            "92/92 - 0s - loss: 0.0057\n",
            "92/92 - 0s - loss: 0.0057\n",
            "92/92 - 0s - loss: 0.0057\n",
            "92/92 - 0s - loss: 0.0057\n",
            "92/92 - 0s - loss: 0.0057\n",
            "92/92 - 0s - loss: 0.0056\n",
            "92/92 - 0s - loss: 0.0056\n",
            "92/92 - 0s - loss: 0.0056\n",
            "92/92 - 0s - loss: 0.0056\n",
            "92/92 - 0s - loss: 0.0056\n",
            "92/92 - 0s - loss: 0.0056\n",
            "92/92 - 0s - loss: 0.0055\n",
            "92/92 - 0s - loss: 0.0055\n",
            "92/92 - 0s - loss: 0.0055\n",
            "92/92 - 0s - loss: 0.0055\n",
            "92/92 - 0s - loss: 0.0054\n",
            "92/92 - 0s - loss: 0.0054\n",
            "92/92 - 0s - loss: 0.0054\n",
            "92/92 - 0s - loss: 0.0054\n",
            "92/92 - 0s - loss: 0.0053\n",
            "92/92 - 0s - loss: 0.0053\n",
            "92/92 - 0s - loss: 0.0053\n",
            "92/92 - 0s - loss: 0.0053\n",
            "92/92 - 0s - loss: 0.0052\n",
            "92/92 - 0s - loss: 0.0052\n",
            "92/92 - 0s - loss: 0.0052\n",
            "92/92 - 0s - loss: 0.0051\n",
            "92/92 - 0s - loss: 0.0051\n",
            "92/92 - 0s - loss: 0.0051\n",
            "92/92 - 0s - loss: 0.0050\n",
            "92/92 - 0s - loss: 0.0050\n",
            "92/92 - 0s - loss: 0.0049\n",
            "92/92 - 0s - loss: 0.0049\n",
            "92/92 - 0s - loss: 0.0049\n",
            "92/92 - 0s - loss: 0.0048\n",
            "92/92 - 0s - loss: 0.0048\n",
            "92/92 - 0s - loss: 0.0047\n",
            "92/92 - 0s - loss: 0.0047\n",
            "92/92 - 0s - loss: 0.0046\n",
            "92/92 - 0s - loss: 0.0046\n",
            "92/92 - 0s - loss: 0.0045\n",
            "92/92 - 0s - loss: 0.0045\n",
            "92/92 - 0s - loss: 0.0044\n",
            "92/92 - 0s - loss: 0.0044\n",
            "92/92 - 0s - loss: 0.0044\n",
            "92/92 - 0s - loss: 0.0043\n",
            "92/92 - 0s - loss: 0.0043\n",
            "92/92 - 0s - loss: 0.0042\n",
            "92/92 - 0s - loss: 0.0041\n",
            "92/92 - 0s - loss: 0.0040\n",
            "92/92 - 0s - loss: 0.0039\n",
            "92/92 - 0s - loss: 0.0038\n",
            "92/92 - 0s - loss: 0.0037\n",
            "92/92 - 0s - loss: 0.0036\n",
            "92/92 - 0s - loss: 0.0035\n",
            "92/92 - 0s - loss: 0.0034\n",
            "92/92 - 0s - loss: 0.0034\n",
            "92/92 - 0s - loss: 0.0033\n",
            "92/92 - 0s - loss: 0.0032\n",
            "92/92 - 0s - loss: 0.0031\n",
            "92/92 - 0s - loss: 0.0030\n",
            "92/92 - 0s - loss: 0.0029\n",
            "92/92 - 0s - loss: 0.0028\n",
            "92/92 - 0s - loss: 0.0027\n",
            "92/92 - 0s - loss: 0.0026\n",
            "92/92 - 0s - loss: 0.0025\n",
            "92/92 - 0s - loss: 0.0025\n",
            "92/92 - 0s - loss: 0.0024\n",
            "92/92 - 0s - loss: 0.0024\n",
            "92/92 - 0s - loss: 0.0023\n",
            "92/92 - 0s - loss: 0.0023\n",
            "92/92 - 0s - loss: 0.0022\n",
            "92/92 - 0s - loss: 0.0022\n",
            "92/92 - 0s - loss: 0.0021\n",
            "92/92 - 0s - loss: 0.0021\n",
            "92/92 - 0s - loss: 0.0020\n",
            "92/92 - 0s - loss: 0.0020\n",
            "92/92 - 0s - loss: 0.0019\n",
            "92/92 - 0s - loss: 0.0019\n",
            "92/92 - 0s - loss: 0.0019\n",
            "92/92 - 0s - loss: 0.0019\n",
            "92/92 - 0s - loss: 0.0018\n",
            "92/92 - 0s - loss: 0.0018\n",
            "92/92 - 0s - loss: 0.0018\n",
            "92/92 - 0s - loss: 0.0018\n",
            "92/92 - 0s - loss: 0.0017\n",
            "92/92 - 0s - loss: 0.0020\n",
            "92/92 - 0s - loss: 0.0051\n",
            "92/92 - 0s - loss: 0.0041\n",
            "92/92 - 0s - loss: 0.0027\n",
            "92/92 - 0s - loss: 0.0024\n",
            "92/92 - 0s - loss: 0.0021\n"
          ],
          "name": "stdout"
        }
      ]
    },
    {
      "cell_type": "code",
      "metadata": {
        "id": "y7nrAtNmRIZ2"
      },
      "source": [
        "# make predictions\n",
        "trainPredict = model.predict(trainX, batch_size=batch_size)\n",
        "model.reset_states()\n",
        "testPredict = model.predict(testX, batch_size=batch_size)"
      ],
      "execution_count": null,
      "outputs": []
    },
    {
      "cell_type": "code",
      "metadata": {
        "colab": {
          "base_uri": "https://localhost:8080/"
        },
        "id": "HAG_M54fRMXb",
        "outputId": "19cefedb-8f02-4f36-b051-912aff534053"
      },
      "source": [
        "# invert predictions\n",
        "trainPredict = scaler.inverse_transform(trainPredict)\n",
        "trainY = scaler.inverse_transform([trainY])\n",
        "testPredict = scaler.inverse_transform(testPredict)\n",
        "testY = scaler.inverse_transform([testY])\n",
        "# calculate root mean squared error\n",
        "trainScore = math.sqrt(mean_squared_error(trainY[0], trainPredict[:,0]))\n",
        "print('Train Score: %.2f RMSE' % (trainScore))\n",
        "testScore = math.sqrt(mean_squared_error(testY[0], testPredict[:,0]))\n",
        "print('Test Score: %.2f RMSE' % (testScore))"
      ],
      "execution_count": null,
      "outputs": [
        {
          "output_type": "stream",
          "text": [
            "Train Score: 22.56 RMSE\n",
            "Test Score: 72.18 RMSE\n"
          ],
          "name": "stdout"
        }
      ]
    },
    {
      "cell_type": "code",
      "metadata": {
        "colab": {
          "base_uri": "https://localhost:8080/",
          "height": 265
        },
        "id": "dle3hgveRPrG",
        "outputId": "28fabbd1-c6d0-4d44-d3da-edbfe6e114da"
      },
      "source": [
        "# shift train predictions for plotting\n",
        "trainPredictPlot = numpy.empty_like(dataset)\n",
        "trainPredictPlot[:, :] = numpy.nan\n",
        "trainPredictPlot[look_back:len(trainPredict)+look_back, :] = trainPredict\n",
        "# shift test predictions for plotting\n",
        "testPredictPlot = numpy.empty_like(dataset)\n",
        "testPredictPlot[:, :] = numpy.nan\n",
        "testPredictPlot[len(trainPredict)+(look_back*2)+1:len(dataset)-1, :] = testPredict\n",
        "# plot baseline and predictions\n",
        "plt.plot(scaler.inverse_transform(dataset))\n",
        "plt.plot(trainPredictPlot)\n",
        "plt.plot(testPredictPlot)\n",
        "plt.show()"
      ],
      "execution_count": null,
      "outputs": [
        {
          "output_type": "display_data",
          "data": {
            "image/png": "[encoded data removed]",
            "text/plain": [
              "<Figure size 432x288 with 1 Axes>"
            ]
          },
          "metadata": {
            "tags": [],
            "needs_background": "light"
          }
        }
      ]
    }
  ]
}