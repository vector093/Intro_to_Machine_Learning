{
  "nbformat": 4,
  "nbformat_minor": 0,
  "metadata": {
    "colab": {
      "provenance": []
    },
    "kernelspec": {
      "name": "python3",
      "display_name": "Python 3"
    }
  },
  "cells": [
    {
      "cell_type": "code",
      "metadata": {
        "id": "rWP74Coqq0hx"
      },
      "source": [
        "# Vectorize plr2d\n",
        "def plr2d_vectorize(X ,T, N):\n",
        "    #initilize input as np array and convert to row vector\n",
        "    X=np.array(X)\n",
        "    if (np.size(X,0) >= np.size(X,1)):\n",
        "      X=np.transpose(X)\n",
        "\n",
        "    #initilize weight vector\n",
        "    W=np.zeros((X.shape[0]+1,1))\n",
        "    \n",
        "    # Perceptron learning\n",
        "    for n in range(0,N,1):\n",
        "      mismatched=False\n",
        "      for i in range(T.shape[0]):\n",
        "        z=np.dot(X[:,i],W[1:])+W[0]\n",
        "        if z*(T[i]) <= 0:\n",
        "          mismatched = True\n",
        "          W[0] = W[0] + (T[i])*1\n",
        "          W[1] = W[1] + (T[i])*(X[0,i])\n",
        "          W[2] = W[2] + (T[i])*(X[1,i])\n",
        "      if mismatched == False:\n",
        "        print(\"converged: n=\",n)\n",
        "        break\n",
        "\n",
        "    print(\"learning done\")\n",
        "    for i in range(0,T.shape[0]):\n",
        "      z=np.dot(X[:,i],W[1:])+W[0]\n",
        "      if z*(T[i]) <= 0:\n",
        "        print(\"mismatch[\",i,\"]\")\n",
        "\n",
        "    return W"
      ],
      "execution_count": null,
      "outputs": []
    }
  ]
}